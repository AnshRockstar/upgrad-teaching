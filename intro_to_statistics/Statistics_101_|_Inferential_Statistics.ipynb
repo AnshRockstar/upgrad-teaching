{
  "cells": [
    {
      "cell_type": "markdown",
      "metadata": {
        "id": "view-in-github",
        "colab_type": "text"
      },
      "source": [
        "<a href=\"https://colab.research.google.com/github/tamojit-maiti/upgrad-teaching/blob/main/intro_to_statistics/Statistics_101_%7C_Inferential_Statistics.ipynb\" target=\"_parent\"><img src=\"https://colab.research.google.com/assets/colab-badge.svg\" alt=\"Open In Colab\"/></a>"
      ]
    },
    {
      "cell_type": "markdown",
      "metadata": {
        "id": "MHCU4XlYQWr4"
      },
      "source": [
        "## Introduction to Probability\n",
        "\n",
        "* Basic Probability\n",
        "* Conditional Probability\n",
        "* Simple Probability Distribution\n",
        "* Probability Mass Function (p.m.f) & Probability Density Function (p.d.f)\n",
        "* Normal Distribution\n",
        "* Normal Distribution & Standard Deviation\n",
        "* Concept of Z-score\n",
        "\n",
        "## Introduction to Inference\n",
        "\n",
        "* Sample Mean & Population Mean\n",
        "* Statistical Inference\n",
        "* Central Limit Theorem\n",
        "* Confidence Intervals\n",
        "* Interpretation Of Confidence Interval\n",
        "* Hypothesis Testing\n",
        "* Why Null Hypothesis ?\n",
        "* Alternate Hypothesis\n",
        "* P-Value\n",
        "* t-test\n",
        "* Type I and Type II error\n",
        "* Chi-squared Goodness of fit test\n",
        "* Chi-sqaured Test of Independence"
      ]
    },
    {
      "cell_type": "code",
      "execution_count": null,
      "metadata": {
        "id": "BvRd17EvQWr7"
      },
      "outputs": [],
      "source": [
        "# importing all the basic libraries\n",
        "\n",
        "# for using division module\n",
        "from __future__ import division\n",
        "\n",
        "# for basic operations\n",
        "import pandas as pd\n",
        "import numpy as np\n",
        "\n",
        "# for data visualizations\n",
        "import matplotlib.pyplot as plt\n",
        "import seaborn as sns\n",
        "\n",
        "# for avoiding warnings\n",
        "import warnings\n",
        "warnings.filterwarnings('ignore')"
      ]
    },
    {
      "cell_type": "code",
      "execution_count": null,
      "metadata": {
        "id": "2sJM2gsAQWr7",
        "outputId": "b78f4fc3-8702-41a1-f29f-9e4cffa8da7f"
      },
      "outputs": [
        {
          "data": {
            "text/plain": [
              "(1460, 81)"
            ]
          },
          "execution_count": 6,
          "metadata": {},
          "output_type": "execute_result"
        }
      ],
      "source": [
        "# reading the data\n",
        "data = pd.read_csv('Datasets/train.csv')\n",
        "\n",
        "# lets check the shape of the dataset\n",
        "data.shape"
      ]
    },
    {
      "cell_type": "code",
      "execution_count": null,
      "metadata": {
        "id": "GqSWtwutQWr8",
        "outputId": "670c387d-085f-412d-aa7c-f9d89c25f45d"
      },
      "outputs": [
        {
          "data": {
            "text/html": [
              "<div>\n",
              "<style scoped>\n",
              "    .dataframe tbody tr th:only-of-type {\n",
              "        vertical-align: middle;\n",
              "    }\n",
              "\n",
              "    .dataframe tbody tr th {\n",
              "        vertical-align: top;\n",
              "    }\n",
              "\n",
              "    .dataframe thead th {\n",
              "        text-align: right;\n",
              "    }\n",
              "</style>\n",
              "<table border=\"1\" class=\"dataframe\">\n",
              "  <thead>\n",
              "    <tr style=\"text-align: right;\">\n",
              "      <th></th>\n",
              "      <th>Id</th>\n",
              "      <th>MSSubClass</th>\n",
              "      <th>MSZoning</th>\n",
              "      <th>LotFrontage</th>\n",
              "      <th>LotArea</th>\n",
              "      <th>Street</th>\n",
              "      <th>Alley</th>\n",
              "      <th>LotShape</th>\n",
              "      <th>LandContour</th>\n",
              "      <th>Utilities</th>\n",
              "      <th>LotConfig</th>\n",
              "      <th>LandSlope</th>\n",
              "      <th>Neighborhood</th>\n",
              "      <th>Condition1</th>\n",
              "      <th>Condition2</th>\n",
              "      <th>BldgType</th>\n",
              "      <th>HouseStyle</th>\n",
              "      <th>OverallQual</th>\n",
              "      <th>OverallCond</th>\n",
              "      <th>YearBuilt</th>\n",
              "      <th>YearRemodAdd</th>\n",
              "      <th>RoofStyle</th>\n",
              "      <th>RoofMatl</th>\n",
              "      <th>Exterior1st</th>\n",
              "      <th>Exterior2nd</th>\n",
              "      <th>MasVnrType</th>\n",
              "      <th>MasVnrArea</th>\n",
              "      <th>ExterQual</th>\n",
              "      <th>ExterCond</th>\n",
              "      <th>Foundation</th>\n",
              "      <th>BsmtQual</th>\n",
              "      <th>BsmtCond</th>\n",
              "      <th>BsmtExposure</th>\n",
              "      <th>BsmtFinType1</th>\n",
              "      <th>BsmtFinSF1</th>\n",
              "      <th>BsmtFinType2</th>\n",
              "      <th>BsmtFinSF2</th>\n",
              "      <th>BsmtUnfSF</th>\n",
              "      <th>TotalBsmtSF</th>\n",
              "      <th>Heating</th>\n",
              "      <th>HeatingQC</th>\n",
              "      <th>CentralAir</th>\n",
              "      <th>Electrical</th>\n",
              "      <th>1stFlrSF</th>\n",
              "      <th>2ndFlrSF</th>\n",
              "      <th>LowQualFinSF</th>\n",
              "      <th>GrLivArea</th>\n",
              "      <th>BsmtFullBath</th>\n",
              "      <th>BsmtHalfBath</th>\n",
              "      <th>FullBath</th>\n",
              "      <th>HalfBath</th>\n",
              "      <th>BedroomAbvGr</th>\n",
              "      <th>KitchenAbvGr</th>\n",
              "      <th>KitchenQual</th>\n",
              "      <th>TotRmsAbvGrd</th>\n",
              "      <th>Functional</th>\n",
              "      <th>Fireplaces</th>\n",
              "      <th>FireplaceQu</th>\n",
              "      <th>GarageType</th>\n",
              "      <th>GarageYrBlt</th>\n",
              "      <th>GarageFinish</th>\n",
              "      <th>GarageCars</th>\n",
              "      <th>GarageArea</th>\n",
              "      <th>GarageQual</th>\n",
              "      <th>GarageCond</th>\n",
              "      <th>PavedDrive</th>\n",
              "      <th>WoodDeckSF</th>\n",
              "      <th>OpenPorchSF</th>\n",
              "      <th>EnclosedPorch</th>\n",
              "      <th>3SsnPorch</th>\n",
              "      <th>ScreenPorch</th>\n",
              "      <th>PoolArea</th>\n",
              "      <th>PoolQC</th>\n",
              "      <th>Fence</th>\n",
              "      <th>MiscFeature</th>\n",
              "      <th>MiscVal</th>\n",
              "      <th>MoSold</th>\n",
              "      <th>YrSold</th>\n",
              "      <th>SaleType</th>\n",
              "      <th>SaleCondition</th>\n",
              "      <th>SalePrice</th>\n",
              "    </tr>\n",
              "  </thead>\n",
              "  <tbody>\n",
              "    <tr>\n",
              "      <th>0</th>\n",
              "      <td>1</td>\n",
              "      <td>60</td>\n",
              "      <td>RL</td>\n",
              "      <td>65.0</td>\n",
              "      <td>8450</td>\n",
              "      <td>Pave</td>\n",
              "      <td>NaN</td>\n",
              "      <td>Reg</td>\n",
              "      <td>Lvl</td>\n",
              "      <td>AllPub</td>\n",
              "      <td>Inside</td>\n",
              "      <td>Gtl</td>\n",
              "      <td>CollgCr</td>\n",
              "      <td>Norm</td>\n",
              "      <td>Norm</td>\n",
              "      <td>1Fam</td>\n",
              "      <td>2Story</td>\n",
              "      <td>7</td>\n",
              "      <td>5</td>\n",
              "      <td>2003</td>\n",
              "      <td>2003</td>\n",
              "      <td>Gable</td>\n",
              "      <td>CompShg</td>\n",
              "      <td>VinylSd</td>\n",
              "      <td>VinylSd</td>\n",
              "      <td>BrkFace</td>\n",
              "      <td>196.0</td>\n",
              "      <td>Gd</td>\n",
              "      <td>TA</td>\n",
              "      <td>PConc</td>\n",
              "      <td>Gd</td>\n",
              "      <td>TA</td>\n",
              "      <td>No</td>\n",
              "      <td>GLQ</td>\n",
              "      <td>706</td>\n",
              "      <td>Unf</td>\n",
              "      <td>0</td>\n",
              "      <td>150</td>\n",
              "      <td>856</td>\n",
              "      <td>GasA</td>\n",
              "      <td>Ex</td>\n",
              "      <td>Y</td>\n",
              "      <td>SBrkr</td>\n",
              "      <td>856</td>\n",
              "      <td>854</td>\n",
              "      <td>0</td>\n",
              "      <td>1710</td>\n",
              "      <td>1</td>\n",
              "      <td>0</td>\n",
              "      <td>2</td>\n",
              "      <td>1</td>\n",
              "      <td>3</td>\n",
              "      <td>1</td>\n",
              "      <td>Gd</td>\n",
              "      <td>8</td>\n",
              "      <td>Typ</td>\n",
              "      <td>0</td>\n",
              "      <td>NaN</td>\n",
              "      <td>Attchd</td>\n",
              "      <td>2003.0</td>\n",
              "      <td>RFn</td>\n",
              "      <td>2</td>\n",
              "      <td>548</td>\n",
              "      <td>TA</td>\n",
              "      <td>TA</td>\n",
              "      <td>Y</td>\n",
              "      <td>0</td>\n",
              "      <td>61</td>\n",
              "      <td>0</td>\n",
              "      <td>0</td>\n",
              "      <td>0</td>\n",
              "      <td>0</td>\n",
              "      <td>NaN</td>\n",
              "      <td>NaN</td>\n",
              "      <td>NaN</td>\n",
              "      <td>0</td>\n",
              "      <td>2</td>\n",
              "      <td>2008</td>\n",
              "      <td>WD</td>\n",
              "      <td>Normal</td>\n",
              "      <td>208500</td>\n",
              "    </tr>\n",
              "    <tr>\n",
              "      <th>1</th>\n",
              "      <td>2</td>\n",
              "      <td>20</td>\n",
              "      <td>RL</td>\n",
              "      <td>80.0</td>\n",
              "      <td>9600</td>\n",
              "      <td>Pave</td>\n",
              "      <td>NaN</td>\n",
              "      <td>Reg</td>\n",
              "      <td>Lvl</td>\n",
              "      <td>AllPub</td>\n",
              "      <td>FR2</td>\n",
              "      <td>Gtl</td>\n",
              "      <td>Veenker</td>\n",
              "      <td>Feedr</td>\n",
              "      <td>Norm</td>\n",
              "      <td>1Fam</td>\n",
              "      <td>1Story</td>\n",
              "      <td>6</td>\n",
              "      <td>8</td>\n",
              "      <td>1976</td>\n",
              "      <td>1976</td>\n",
              "      <td>Gable</td>\n",
              "      <td>CompShg</td>\n",
              "      <td>MetalSd</td>\n",
              "      <td>MetalSd</td>\n",
              "      <td>None</td>\n",
              "      <td>0.0</td>\n",
              "      <td>TA</td>\n",
              "      <td>TA</td>\n",
              "      <td>CBlock</td>\n",
              "      <td>Gd</td>\n",
              "      <td>TA</td>\n",
              "      <td>Gd</td>\n",
              "      <td>ALQ</td>\n",
              "      <td>978</td>\n",
              "      <td>Unf</td>\n",
              "      <td>0</td>\n",
              "      <td>284</td>\n",
              "      <td>1262</td>\n",
              "      <td>GasA</td>\n",
              "      <td>Ex</td>\n",
              "      <td>Y</td>\n",
              "      <td>SBrkr</td>\n",
              "      <td>1262</td>\n",
              "      <td>0</td>\n",
              "      <td>0</td>\n",
              "      <td>1262</td>\n",
              "      <td>0</td>\n",
              "      <td>1</td>\n",
              "      <td>2</td>\n",
              "      <td>0</td>\n",
              "      <td>3</td>\n",
              "      <td>1</td>\n",
              "      <td>TA</td>\n",
              "      <td>6</td>\n",
              "      <td>Typ</td>\n",
              "      <td>1</td>\n",
              "      <td>TA</td>\n",
              "      <td>Attchd</td>\n",
              "      <td>1976.0</td>\n",
              "      <td>RFn</td>\n",
              "      <td>2</td>\n",
              "      <td>460</td>\n",
              "      <td>TA</td>\n",
              "      <td>TA</td>\n",
              "      <td>Y</td>\n",
              "      <td>298</td>\n",
              "      <td>0</td>\n",
              "      <td>0</td>\n",
              "      <td>0</td>\n",
              "      <td>0</td>\n",
              "      <td>0</td>\n",
              "      <td>NaN</td>\n",
              "      <td>NaN</td>\n",
              "      <td>NaN</td>\n",
              "      <td>0</td>\n",
              "      <td>5</td>\n",
              "      <td>2007</td>\n",
              "      <td>WD</td>\n",
              "      <td>Normal</td>\n",
              "      <td>181500</td>\n",
              "    </tr>\n",
              "    <tr>\n",
              "      <th>2</th>\n",
              "      <td>3</td>\n",
              "      <td>60</td>\n",
              "      <td>RL</td>\n",
              "      <td>68.0</td>\n",
              "      <td>11250</td>\n",
              "      <td>Pave</td>\n",
              "      <td>NaN</td>\n",
              "      <td>IR1</td>\n",
              "      <td>Lvl</td>\n",
              "      <td>AllPub</td>\n",
              "      <td>Inside</td>\n",
              "      <td>Gtl</td>\n",
              "      <td>CollgCr</td>\n",
              "      <td>Norm</td>\n",
              "      <td>Norm</td>\n",
              "      <td>1Fam</td>\n",
              "      <td>2Story</td>\n",
              "      <td>7</td>\n",
              "      <td>5</td>\n",
              "      <td>2001</td>\n",
              "      <td>2002</td>\n",
              "      <td>Gable</td>\n",
              "      <td>CompShg</td>\n",
              "      <td>VinylSd</td>\n",
              "      <td>VinylSd</td>\n",
              "      <td>BrkFace</td>\n",
              "      <td>162.0</td>\n",
              "      <td>Gd</td>\n",
              "      <td>TA</td>\n",
              "      <td>PConc</td>\n",
              "      <td>Gd</td>\n",
              "      <td>TA</td>\n",
              "      <td>Mn</td>\n",
              "      <td>GLQ</td>\n",
              "      <td>486</td>\n",
              "      <td>Unf</td>\n",
              "      <td>0</td>\n",
              "      <td>434</td>\n",
              "      <td>920</td>\n",
              "      <td>GasA</td>\n",
              "      <td>Ex</td>\n",
              "      <td>Y</td>\n",
              "      <td>SBrkr</td>\n",
              "      <td>920</td>\n",
              "      <td>866</td>\n",
              "      <td>0</td>\n",
              "      <td>1786</td>\n",
              "      <td>1</td>\n",
              "      <td>0</td>\n",
              "      <td>2</td>\n",
              "      <td>1</td>\n",
              "      <td>3</td>\n",
              "      <td>1</td>\n",
              "      <td>Gd</td>\n",
              "      <td>6</td>\n",
              "      <td>Typ</td>\n",
              "      <td>1</td>\n",
              "      <td>TA</td>\n",
              "      <td>Attchd</td>\n",
              "      <td>2001.0</td>\n",
              "      <td>RFn</td>\n",
              "      <td>2</td>\n",
              "      <td>608</td>\n",
              "      <td>TA</td>\n",
              "      <td>TA</td>\n",
              "      <td>Y</td>\n",
              "      <td>0</td>\n",
              "      <td>42</td>\n",
              "      <td>0</td>\n",
              "      <td>0</td>\n",
              "      <td>0</td>\n",
              "      <td>0</td>\n",
              "      <td>NaN</td>\n",
              "      <td>NaN</td>\n",
              "      <td>NaN</td>\n",
              "      <td>0</td>\n",
              "      <td>9</td>\n",
              "      <td>2008</td>\n",
              "      <td>WD</td>\n",
              "      <td>Normal</td>\n",
              "      <td>223500</td>\n",
              "    </tr>\n",
              "    <tr>\n",
              "      <th>3</th>\n",
              "      <td>4</td>\n",
              "      <td>70</td>\n",
              "      <td>RL</td>\n",
              "      <td>60.0</td>\n",
              "      <td>9550</td>\n",
              "      <td>Pave</td>\n",
              "      <td>NaN</td>\n",
              "      <td>IR1</td>\n",
              "      <td>Lvl</td>\n",
              "      <td>AllPub</td>\n",
              "      <td>Corner</td>\n",
              "      <td>Gtl</td>\n",
              "      <td>Crawfor</td>\n",
              "      <td>Norm</td>\n",
              "      <td>Norm</td>\n",
              "      <td>1Fam</td>\n",
              "      <td>2Story</td>\n",
              "      <td>7</td>\n",
              "      <td>5</td>\n",
              "      <td>1915</td>\n",
              "      <td>1970</td>\n",
              "      <td>Gable</td>\n",
              "      <td>CompShg</td>\n",
              "      <td>Wd Sdng</td>\n",
              "      <td>Wd Shng</td>\n",
              "      <td>None</td>\n",
              "      <td>0.0</td>\n",
              "      <td>TA</td>\n",
              "      <td>TA</td>\n",
              "      <td>BrkTil</td>\n",
              "      <td>TA</td>\n",
              "      <td>Gd</td>\n",
              "      <td>No</td>\n",
              "      <td>ALQ</td>\n",
              "      <td>216</td>\n",
              "      <td>Unf</td>\n",
              "      <td>0</td>\n",
              "      <td>540</td>\n",
              "      <td>756</td>\n",
              "      <td>GasA</td>\n",
              "      <td>Gd</td>\n",
              "      <td>Y</td>\n",
              "      <td>SBrkr</td>\n",
              "      <td>961</td>\n",
              "      <td>756</td>\n",
              "      <td>0</td>\n",
              "      <td>1717</td>\n",
              "      <td>1</td>\n",
              "      <td>0</td>\n",
              "      <td>1</td>\n",
              "      <td>0</td>\n",
              "      <td>3</td>\n",
              "      <td>1</td>\n",
              "      <td>Gd</td>\n",
              "      <td>7</td>\n",
              "      <td>Typ</td>\n",
              "      <td>1</td>\n",
              "      <td>Gd</td>\n",
              "      <td>Detchd</td>\n",
              "      <td>1998.0</td>\n",
              "      <td>Unf</td>\n",
              "      <td>3</td>\n",
              "      <td>642</td>\n",
              "      <td>TA</td>\n",
              "      <td>TA</td>\n",
              "      <td>Y</td>\n",
              "      <td>0</td>\n",
              "      <td>35</td>\n",
              "      <td>272</td>\n",
              "      <td>0</td>\n",
              "      <td>0</td>\n",
              "      <td>0</td>\n",
              "      <td>NaN</td>\n",
              "      <td>NaN</td>\n",
              "      <td>NaN</td>\n",
              "      <td>0</td>\n",
              "      <td>2</td>\n",
              "      <td>2006</td>\n",
              "      <td>WD</td>\n",
              "      <td>Abnorml</td>\n",
              "      <td>140000</td>\n",
              "    </tr>\n",
              "    <tr>\n",
              "      <th>4</th>\n",
              "      <td>5</td>\n",
              "      <td>60</td>\n",
              "      <td>RL</td>\n",
              "      <td>84.0</td>\n",
              "      <td>14260</td>\n",
              "      <td>Pave</td>\n",
              "      <td>NaN</td>\n",
              "      <td>IR1</td>\n",
              "      <td>Lvl</td>\n",
              "      <td>AllPub</td>\n",
              "      <td>FR2</td>\n",
              "      <td>Gtl</td>\n",
              "      <td>NoRidge</td>\n",
              "      <td>Norm</td>\n",
              "      <td>Norm</td>\n",
              "      <td>1Fam</td>\n",
              "      <td>2Story</td>\n",
              "      <td>8</td>\n",
              "      <td>5</td>\n",
              "      <td>2000</td>\n",
              "      <td>2000</td>\n",
              "      <td>Gable</td>\n",
              "      <td>CompShg</td>\n",
              "      <td>VinylSd</td>\n",
              "      <td>VinylSd</td>\n",
              "      <td>BrkFace</td>\n",
              "      <td>350.0</td>\n",
              "      <td>Gd</td>\n",
              "      <td>TA</td>\n",
              "      <td>PConc</td>\n",
              "      <td>Gd</td>\n",
              "      <td>TA</td>\n",
              "      <td>Av</td>\n",
              "      <td>GLQ</td>\n",
              "      <td>655</td>\n",
              "      <td>Unf</td>\n",
              "      <td>0</td>\n",
              "      <td>490</td>\n",
              "      <td>1145</td>\n",
              "      <td>GasA</td>\n",
              "      <td>Ex</td>\n",
              "      <td>Y</td>\n",
              "      <td>SBrkr</td>\n",
              "      <td>1145</td>\n",
              "      <td>1053</td>\n",
              "      <td>0</td>\n",
              "      <td>2198</td>\n",
              "      <td>1</td>\n",
              "      <td>0</td>\n",
              "      <td>2</td>\n",
              "      <td>1</td>\n",
              "      <td>4</td>\n",
              "      <td>1</td>\n",
              "      <td>Gd</td>\n",
              "      <td>9</td>\n",
              "      <td>Typ</td>\n",
              "      <td>1</td>\n",
              "      <td>TA</td>\n",
              "      <td>Attchd</td>\n",
              "      <td>2000.0</td>\n",
              "      <td>RFn</td>\n",
              "      <td>3</td>\n",
              "      <td>836</td>\n",
              "      <td>TA</td>\n",
              "      <td>TA</td>\n",
              "      <td>Y</td>\n",
              "      <td>192</td>\n",
              "      <td>84</td>\n",
              "      <td>0</td>\n",
              "      <td>0</td>\n",
              "      <td>0</td>\n",
              "      <td>0</td>\n",
              "      <td>NaN</td>\n",
              "      <td>NaN</td>\n",
              "      <td>NaN</td>\n",
              "      <td>0</td>\n",
              "      <td>12</td>\n",
              "      <td>2008</td>\n",
              "      <td>WD</td>\n",
              "      <td>Normal</td>\n",
              "      <td>250000</td>\n",
              "    </tr>\n",
              "  </tbody>\n",
              "</table>\n",
              "</div>"
            ],
            "text/plain": [
              "   Id  MSSubClass MSZoning  LotFrontage  LotArea Street Alley LotShape  \\\n",
              "0   1          60       RL         65.0     8450   Pave   NaN      Reg   \n",
              "1   2          20       RL         80.0     9600   Pave   NaN      Reg   \n",
              "2   3          60       RL         68.0    11250   Pave   NaN      IR1   \n",
              "3   4          70       RL         60.0     9550   Pave   NaN      IR1   \n",
              "4   5          60       RL         84.0    14260   Pave   NaN      IR1   \n",
              "\n",
              "  LandContour Utilities LotConfig LandSlope Neighborhood Condition1  \\\n",
              "0         Lvl    AllPub    Inside       Gtl      CollgCr       Norm   \n",
              "1         Lvl    AllPub       FR2       Gtl      Veenker      Feedr   \n",
              "2         Lvl    AllPub    Inside       Gtl      CollgCr       Norm   \n",
              "3         Lvl    AllPub    Corner       Gtl      Crawfor       Norm   \n",
              "4         Lvl    AllPub       FR2       Gtl      NoRidge       Norm   \n",
              "\n",
              "  Condition2 BldgType HouseStyle  OverallQual  OverallCond  YearBuilt  \\\n",
              "0       Norm     1Fam     2Story            7            5       2003   \n",
              "1       Norm     1Fam     1Story            6            8       1976   \n",
              "2       Norm     1Fam     2Story            7            5       2001   \n",
              "3       Norm     1Fam     2Story            7            5       1915   \n",
              "4       Norm     1Fam     2Story            8            5       2000   \n",
              "\n",
              "   YearRemodAdd RoofStyle RoofMatl Exterior1st Exterior2nd MasVnrType  \\\n",
              "0          2003     Gable  CompShg     VinylSd     VinylSd    BrkFace   \n",
              "1          1976     Gable  CompShg     MetalSd     MetalSd       None   \n",
              "2          2002     Gable  CompShg     VinylSd     VinylSd    BrkFace   \n",
              "3          1970     Gable  CompShg     Wd Sdng     Wd Shng       None   \n",
              "4          2000     Gable  CompShg     VinylSd     VinylSd    BrkFace   \n",
              "\n",
              "   MasVnrArea ExterQual ExterCond Foundation BsmtQual BsmtCond BsmtExposure  \\\n",
              "0       196.0        Gd        TA      PConc       Gd       TA           No   \n",
              "1         0.0        TA        TA     CBlock       Gd       TA           Gd   \n",
              "2       162.0        Gd        TA      PConc       Gd       TA           Mn   \n",
              "3         0.0        TA        TA     BrkTil       TA       Gd           No   \n",
              "4       350.0        Gd        TA      PConc       Gd       TA           Av   \n",
              "\n",
              "  BsmtFinType1  BsmtFinSF1 BsmtFinType2  BsmtFinSF2  BsmtUnfSF  TotalBsmtSF  \\\n",
              "0          GLQ         706          Unf           0        150          856   \n",
              "1          ALQ         978          Unf           0        284         1262   \n",
              "2          GLQ         486          Unf           0        434          920   \n",
              "3          ALQ         216          Unf           0        540          756   \n",
              "4          GLQ         655          Unf           0        490         1145   \n",
              "\n",
              "  Heating HeatingQC CentralAir Electrical  1stFlrSF  2ndFlrSF  LowQualFinSF  \\\n",
              "0    GasA        Ex          Y      SBrkr       856       854             0   \n",
              "1    GasA        Ex          Y      SBrkr      1262         0             0   \n",
              "2    GasA        Ex          Y      SBrkr       920       866             0   \n",
              "3    GasA        Gd          Y      SBrkr       961       756             0   \n",
              "4    GasA        Ex          Y      SBrkr      1145      1053             0   \n",
              "\n",
              "   GrLivArea  BsmtFullBath  BsmtHalfBath  FullBath  HalfBath  BedroomAbvGr  \\\n",
              "0       1710             1             0         2         1             3   \n",
              "1       1262             0             1         2         0             3   \n",
              "2       1786             1             0         2         1             3   \n",
              "3       1717             1             0         1         0             3   \n",
              "4       2198             1             0         2         1             4   \n",
              "\n",
              "   KitchenAbvGr KitchenQual  TotRmsAbvGrd Functional  Fireplaces FireplaceQu  \\\n",
              "0             1          Gd             8        Typ           0         NaN   \n",
              "1             1          TA             6        Typ           1          TA   \n",
              "2             1          Gd             6        Typ           1          TA   \n",
              "3             1          Gd             7        Typ           1          Gd   \n",
              "4             1          Gd             9        Typ           1          TA   \n",
              "\n",
              "  GarageType  GarageYrBlt GarageFinish  GarageCars  GarageArea GarageQual  \\\n",
              "0     Attchd       2003.0          RFn           2         548         TA   \n",
              "1     Attchd       1976.0          RFn           2         460         TA   \n",
              "2     Attchd       2001.0          RFn           2         608         TA   \n",
              "3     Detchd       1998.0          Unf           3         642         TA   \n",
              "4     Attchd       2000.0          RFn           3         836         TA   \n",
              "\n",
              "  GarageCond PavedDrive  WoodDeckSF  OpenPorchSF  EnclosedPorch  3SsnPorch  \\\n",
              "0         TA          Y           0           61              0          0   \n",
              "1         TA          Y         298            0              0          0   \n",
              "2         TA          Y           0           42              0          0   \n",
              "3         TA          Y           0           35            272          0   \n",
              "4         TA          Y         192           84              0          0   \n",
              "\n",
              "   ScreenPorch  PoolArea PoolQC Fence MiscFeature  MiscVal  MoSold  YrSold  \\\n",
              "0            0         0    NaN   NaN         NaN        0       2    2008   \n",
              "1            0         0    NaN   NaN         NaN        0       5    2007   \n",
              "2            0         0    NaN   NaN         NaN        0       9    2008   \n",
              "3            0         0    NaN   NaN         NaN        0       2    2006   \n",
              "4            0         0    NaN   NaN         NaN        0      12    2008   \n",
              "\n",
              "  SaleType SaleCondition  SalePrice  \n",
              "0       WD        Normal     208500  \n",
              "1       WD        Normal     181500  \n",
              "2       WD        Normal     223500  \n",
              "3       WD       Abnorml     140000  \n",
              "4       WD        Normal     250000  "
            ]
          },
          "execution_count": 4,
          "metadata": {},
          "output_type": "execute_result"
        }
      ],
      "source": [
        "# lets check the head of the dataset\n",
        "pd.set_option('max_columns', 82)\n",
        "data.head()"
      ]
    },
    {
      "cell_type": "markdown",
      "metadata": {
        "id": "eD_fJcGCQWr8"
      },
      "source": [
        "## Basic Probability\n",
        "\n",
        "* Let's start with a simple example: Say, we flip a fair coin\n",
        "\n",
        "* Intuitively, there's a 50% chance of getting heads, and a 50% chance of getting tails. This is because there are only two possible outcomes, and each event is equally likely.\n",
        "\n",
        "* Therefore, we can say that the Probability of getting a Heads is 0.5. Similarly, Probability of getting a Tails is 0.5\n",
        "\n",
        "* Probability can roughly be described as **the chance of an event or sequence of events occurring**."
      ]
    },
    {
      "cell_type": "markdown",
      "metadata": {
        "id": "0B_AwDDdQWr9"
      },
      "source": [
        "* **Experiment** – are the uncertain situations, which could have multiple outcomes. A coin toss is an experiment.\n",
        "* **Outcome** is the result of a single trial. So, if head lands, the outcome of or coin toss experiment is “Heads”\n",
        "* **Event** is one or more outcomes from an experiment. “Tails” is one of the possible events for this experiment."
      ]
    },
    {
      "cell_type": "markdown",
      "metadata": {
        "id": "THr-C2yOQWr9"
      },
      "source": [
        "### Rules\n",
        "\n",
        "* The Probability that an event occurs with certainty is 1\n",
        "* The Probability that an event will not occur surely is 0\n",
        "* The Probability of the complement of an event is 1 minus the probability of that event.\n",
        "\n",
        "* The probability of at least 1 of 2 (or more) things that can not simultaneously occur (mutually exclusive) is the sum of their respective probabilities\n",
        "\n",
        "* **Mutually exclusive is a statistical term describing two or more events that cannot occur simultaneously. For example, it is impossible to roll a five and a three on a single die at the same time.**"
      ]
    },
    {
      "cell_type": "markdown",
      "metadata": {
        "id": "jhU9dc62QWr-"
      },
      "source": [
        "For any 2 events A & B, the probability that at least one occurs is the sum of their individual probabilities minus the probability of their intersection. i.e\n",
        "\n",
        "\n",
        "$$ P(A\\cup B) = P(A) + P(B) - P(A\\cap B) $$\n",
        "\n",
        "Example\n",
        "\n",
        "The National Sleep Foundation reports that around 3% of the American population has sleep-breathing issues. They also report that around 10% of the American population has restless leg syndrome. Does this imply that 13% of people will have at least one of these problems?\n",
        "\n",
        "Answer: No, the events can occur simultaneously and so are not mutually exclusive. To elaborate:"
      ]
    },
    {
      "cell_type": "markdown",
      "metadata": {
        "id": "KlftGrLVQWr-"
      },
      "source": [
        "* **Let's check out the Probability of picking a house in the Neighborhood - \"OldTown\"**\n",
        "\n",
        "\n",
        "No. of houses in OldTown/Total no. of houses\n",
        "Let's go through this in Python"
      ]
    },
    {
      "cell_type": "code",
      "execution_count": null,
      "metadata": {
        "id": "KjH2q6_KQWr-",
        "outputId": "be218f08-d3fc-421d-d1d8-b6e9c4485c9a"
      },
      "outputs": [
        {
          "data": {
            "text/plain": [
              "Index(['Id', 'MSSubClass', 'MSZoning', 'LotFrontage', 'LotArea', 'Street',\n",
              "       'Alley', 'LotShape', 'LandContour', 'Utilities', 'LotConfig',\n",
              "       'LandSlope', 'Neighborhood', 'Condition1', 'Condition2', 'BldgType',\n",
              "       'HouseStyle', 'OverallQual', 'OverallCond', 'YearBuilt', 'YearRemodAdd',\n",
              "       'RoofStyle', 'RoofMatl', 'Exterior1st', 'Exterior2nd', 'MasVnrType',\n",
              "       'MasVnrArea', 'ExterQual', 'ExterCond', 'Foundation', 'BsmtQual',\n",
              "       'BsmtCond', 'BsmtExposure', 'BsmtFinType1', 'BsmtFinSF1',\n",
              "       'BsmtFinType2', 'BsmtFinSF2', 'BsmtUnfSF', 'TotalBsmtSF', 'Heating',\n",
              "       'HeatingQC', 'CentralAir', 'Electrical', '1stFlrSF', '2ndFlrSF',\n",
              "       'LowQualFinSF', 'GrLivArea', 'BsmtFullBath', 'BsmtHalfBath', 'FullBath',\n",
              "       'HalfBath', 'BedroomAbvGr', 'KitchenAbvGr', 'KitchenQual',\n",
              "       'TotRmsAbvGrd', 'Functional', 'Fireplaces', 'FireplaceQu', 'GarageType',\n",
              "       'GarageYrBlt', 'GarageFinish', 'GarageCars', 'GarageArea', 'GarageQual',\n",
              "       'GarageCond', 'PavedDrive', 'WoodDeckSF', 'OpenPorchSF',\n",
              "       'EnclosedPorch', '3SsnPorch', 'ScreenPorch', 'PoolArea', 'PoolQC',\n",
              "       'Fence', 'MiscFeature', 'MiscVal', 'MoSold', 'YrSold', 'SaleType',\n",
              "       'SaleCondition', 'SalePrice'],\n",
              "      dtype='object')"
            ]
          },
          "execution_count": 5,
          "metadata": {},
          "output_type": "execute_result"
        }
      ],
      "source": [
        "data.columns"
      ]
    },
    {
      "cell_type": "code",
      "execution_count": null,
      "metadata": {
        "id": "cUMxIxTHQWr_",
        "outputId": "18e6386f-c613-49c0-ab0c-9e52083590c1"
      },
      "outputs": [
        {
          "data": {
            "text/plain": [
              "NAmes      225\n",
              "CollgCr    150\n",
              "OldTown    113\n",
              "Edwards    100\n",
              "Somerst     86\n",
              "Gilbert     79\n",
              "NridgHt     77\n",
              "Sawyer      74\n",
              "NWAmes      73\n",
              "SawyerW     59\n",
              "BrkSide     58\n",
              "Crawfor     51\n",
              "Mitchel     49\n",
              "NoRidge     41\n",
              "Timber      38\n",
              "IDOTRR      37\n",
              "ClearCr     28\n",
              "StoneBr     25\n",
              "SWISU       25\n",
              "Blmngtn     17\n",
              "MeadowV     17\n",
              "BrDale      16\n",
              "Veenker     11\n",
              "NPkVill      9\n",
              "Blueste      2\n",
              "Name: Neighborhood, dtype: int64"
            ]
          },
          "execution_count": 6,
          "metadata": {},
          "output_type": "execute_result"
        }
      ],
      "source": [
        "# lets check the different neighborhoods\n",
        "data['Neighborhood'].value_counts()"
      ]
    },
    {
      "cell_type": "code",
      "execution_count": null,
      "metadata": {
        "id": "tIDvUHB5QWr_",
        "outputId": "1a4c56d9-ae1e-4eb6-e632-77e4f9b91276"
      },
      "outputs": [
        {
          "name": "stdout",
          "output_type": "stream",
          "text": [
            "Total Number of Houses in the Neighborhood : 1460\n"
          ]
        }
      ],
      "source": [
        "# total number of houses in the neighborhood\n",
        "all_houses = data.shape[0]\n",
        "print(\"Total Number of Houses in the Neighborhood :\", all_houses)"
      ]
    },
    {
      "cell_type": "code",
      "execution_count": null,
      "metadata": {
        "id": "BNl7desMQWr_",
        "outputId": "7d759fae-0cd5-4921-ecde-9e51b5f76730"
      },
      "outputs": [
        {
          "name": "stdout",
          "output_type": "stream",
          "text": [
            "Total Number of Houses in the Old Town Road : 113\n"
          ]
        }
      ],
      "source": [
        "# total number of houses in the Old town neighborhood\n",
        "houses_in_OldTown = data[data['Neighborhood'] == 'OldTown'].shape[0]\n",
        "print(\"Total Number of Houses in the Old Town Road :\", houses_in_OldTown)\n"
      ]
    },
    {
      "cell_type": "code",
      "execution_count": null,
      "metadata": {
        "id": "ML8RJE28QWr_",
        "outputId": "5d8d79ad-a715-497d-a937-64771a637fd4"
      },
      "outputs": [
        {
          "name": "stdout",
          "output_type": "stream",
          "text": [
            "Probability of picking a house in OldTown: 7.74%\n"
          ]
        }
      ],
      "source": [
        "# lets find the probability of picking a House in the Old Town\n",
        "probability = (houses_in_OldTown/all_houses)*100\n",
        "print('Probability of picking a house in OldTown: {0:.2f}'.format(probability )+'%')"
      ]
    },
    {
      "cell_type": "markdown",
      "metadata": {
        "id": "ZyfLROPcQWr_"
      },
      "source": [
        "## Conditional Probability\n",
        "\n",
        "* There are 10 candies in a bag: 5 green, and 5 blue.\n",
        "\n",
        "* What is the probability of getting 3 blue candies in a row?\n",
        "\n",
        "* The probability of getting the first blue candy is 5/10, or 1/2.\n",
        "\n",
        "When we pick a blue candy, though, we remove it from the bag. We're left with 9 candies in total with (5-1 =)4 Blue ones.\n",
        "So the probability of getting another blue is 4/9.\n",
        "Similarly, the probability of picking a third blue candy is 3/8\n",
        "\n",
        "Since we're calculating the probability of picking 1 Blue Candy AND 1 Blue Candy AND 1 Blue Candy\n",
        "\n",
        "* Our final probability is **1/2 * 4/9 * 3/8, or .0833**. So, there is an 8.3% chance of picking three blue candies in a row.\n",
        "Simple tricks: Whenever you have to verbally say AND (like we just did above), you will want to MULTIPLY the probabilities\n",
        "Whenever you have to verbally say OR, you will want to ADD the probabilities."
      ]
    },
    {
      "cell_type": "markdown",
      "metadata": {
        "id": "DA4CqbK_QWr_"
      },
      "source": [
        "**GIVEN that we have the probability of picking a house in \"OldTown\" neighborhood, we go a step further and AGAIN pick a house from the SAME neighborhood ?**"
      ]
    },
    {
      "cell_type": "code",
      "execution_count": null,
      "metadata": {
        "id": "js2rsWdrQWsA",
        "outputId": "2b6ff9f7-fbad-4116-ac4c-1989372322b5"
      },
      "outputs": [
        {
          "name": "stdout",
          "output_type": "stream",
          "text": [
            "The Probability of Picking a House in Old Town and again picking a house from the same neighborhood is 0.594139352\n"
          ]
        }
      ],
      "source": [
        "## Enter condtional probability code\n",
        "cond_prob = (houses_in_OldTown/all_houses) *\n",
        "((houses_in_OldTown - 1)/(all_houses - 1)) \n",
        "print(\"The Probability of Picking a House in Old Town and again picking a house from the same neighborhood is {0:.9f}\".\n",
        "      format(cond_prob*100))"
      ]
    },
    {
      "cell_type": "markdown",
      "metadata": {
        "id": "65LTuIZfQWsA"
      },
      "source": [
        "## Simple Probability Distribution\n",
        "\n",
        "* Lets Take an example, that we throw a dice of containing six faces.\n",
        "* so, there are Total no. of Combinations = 6*6 = 36\n",
        "\n",
        "Let’s see how:\n",
        "\n",
        "2 {(1,1)} => 1/36\n",
        "\n",
        "3 {(1,2),(2,1)} => 2/36\n",
        "\n",
        "4 {(2,2),(3,1),(1,3)} => 3/36\n",
        "\n",
        "5 {(1,4),(4,1),(2,3),(3,2)} => 4/36\n",
        "\n",
        "6 {(3,3),(1,5),(5,1),(2,4),(4,2)} => 5/36\n",
        "\n",
        "7 {(1,6),(6,1),(2,5),(5,2),(3,4),(4,3)} => 6/36\n",
        "\n",
        "8 {(2,6),(6,2),(3,5),(5,3),(4,4)} => 5/36\n",
        "\n",
        "9 {(3,6),(6,3),(5,4),(4,5)} => 4/36\n",
        "\n",
        "10 {(4,6),(6,4),(5,5)} => 3/36\n",
        "\n",
        "11 {(5,6),(6,5)} => 2/36\n",
        "\n",
        "12 {(6,6)} = > 1/36"
      ]
    },
    {
      "cell_type": "markdown",
      "metadata": {
        "id": "jJuXQjcEQWsA"
      },
      "source": [
        "## PDF and PMF\n",
        "\n",
        "* The probability distribution for a discrete random variable is the **probability mass function** for that variable and similarly and if our random variable takes continuous values the distribution is called a **probability density function**.\n",
        "\n",
        "* In the previous what we plotted was the Probability Mass Function of a Discrete Random Variable (X which is the sum of two fair dies)\n",
        "\n",
        "* One of the most common Probability Distribution Functions is the Normal Distribution.\n"
      ]
    },
    {
      "cell_type": "markdown",
      "metadata": {
        "id": "xsOPJbqUQWsA"
      },
      "source": [
        "## Normal Distrution\n",
        "\n",
        "* Normal distribution, also known as the Gaussian distribution, is a probability distribution that is symmetric about the mean, showing that data near the mean are more frequent in occurrence than data far from the mean. In graph form, normal distribution will appear as a bell curve."
      ]
    },
    {
      "cell_type": "markdown",
      "metadata": {
        "id": "qAtVAqJ_QWsA"
      },
      "source": [
        "### Checking for Skewness of the data\n",
        "\n",
        "* We Generally check skewness in the Target Columns of the data.\n",
        "* Skewness is a state of distribution where the distribution is highly biased towards the right or left side of the plot."
      ]
    },
    {
      "cell_type": "code",
      "execution_count": null,
      "metadata": {
        "id": "AWuJEObwQWsA",
        "outputId": "2cf128c2-f9a9-4ebe-da30-a50bd9f514c0"
      },
      "outputs": [
        {
          "data": {
            "image/png": "[encoded data removed]",
            "text/plain": [
              "<Figure size 792x288 with 1 Axes>"
            ]
          },
          "metadata": {},
          "output_type": "display_data"
        }
      ],
      "source": [
        "plt.rcParams['figure.figsize'] = (11, 4)\n",
        "plt.style.use('fivethirtyeight')\n",
        "\n",
        "plt.xticks(rotation=30)\n",
        "sns.distplot(data['SalePrice'])\n",
        "plt.title('Distribution of Target Column')\n",
        "plt.show()"
      ]
    },
    {
      "cell_type": "markdown",
      "metadata": {
        "id": "_68WOVjkQWsA"
      },
      "source": [
        "* The distribution for our target variable aka SalePrice doesn't resemble a normal distribution, it is skewed to the right\n",
        "* If we remove the outliers, it'd somewhat resemble a Normal Dstribution"
      ]
    },
    {
      "cell_type": "markdown",
      "metadata": {
        "id": "K8iSeL5IQWsA"
      },
      "source": [
        "## Z-Score\n",
        "\n",
        "* The number of standard deviations from the mean is also called the \"Standard Score\", \"sigma\" or \"z-score\".\n",
        "![image.png](attachment:image.png)\n",
        "* Let's take an example to better understand the meaning of z-score\n",
        "    * Let's Suppose the average height of a Student in a class is 1.4 meters\n",
        "    * In that same class one of the students is 1.85m tall\n",
        "    * You can see on the bell curve that 1.85m is 3 standard deviations from the mean of 1.4.\n",
        "    * so, the student with 1.85m height has a **z-score\" of 3.0**."
      ]
    },
    {
      "cell_type": "markdown",
      "metadata": {
        "id": "b39nwtAfQWsA"
      },
      "source": [
        "## Inference"
      ]
    },
    {
      "cell_type": "markdown",
      "metadata": {
        "id": "Hj7wG1-AQWsB"
      },
      "source": [
        "### Sample Mean and population Mean\n",
        "\n",
        "* Let's consider a sample of 500 houses at random from 1460 houses and plot it's mean\n",
        "* But the mean of these 500 houses can be near or pretty far away from the mean of the 1460 houses calculated earlier."
      ]
    },
    {
      "cell_type": "code",
      "execution_count": null,
      "metadata": {
        "id": "UAwYmg56QWsB",
        "outputId": "57e54f09-9391-4807-a662-39a4955bc15c"
      },
      "outputs": [
        {
          "name": "stdout",
          "output_type": "stream",
          "text": [
            "Sample mean: 177499.802\n",
            "Population mean: 180921.19589041095\n"
          ]
        }
      ],
      "source": [
        "# lets take seed so that everytime the random values come out to be constant\n",
        "np.random.seed(6)\n",
        "\n",
        "# lets take 500 sample values from the dataset of 1460 values\n",
        "sample_ages = np.random.choice(a= data['SalePrice'], size=500)\n",
        "\n",
        "# getting the sample mean\n",
        "print (\"Sample mean:\", sample_ages.mean() )          \n",
        "\n",
        "# getting the population mean\n",
        "print(\"Population mean:\", data['SalePrice'].mean())"
      ]
    },
    {
      "cell_type": "markdown",
      "metadata": {
        "id": "oNIi--KGQWsB"
      },
      "source": [
        "## Statistical Inference\n",
        "\n",
        "* This **subset** of the population is nothing but the Sample data\n",
        "\n",
        "* We carry out various tests on the Sample to gain insight on the larger population out there!\n",
        "\n",
        "* Therefore Statistical inference is the process of analyzing sample data to gain insight into the population from which the data was collected and to investigate differences between different data samples.\n",
        "\n",
        "The sample mean is usually not exactly the same as the population mean. This difference can be caused by many factors including poor survey design, biased sampling methods and the randomness inherent to drawing a sample from a population.\n",
        "\n"
      ]
    },
    {
      "cell_type": "markdown",
      "metadata": {
        "id": "nvM9e_0dQWsB"
      },
      "source": [
        "## Central Limit Theorem\n",
        "\n",
        "The central limit theorem (CLT) is a statistical theory that states that given a sufficiently large sample size from a population with a finite level of variance, the mean of all samples from the same population will be approximately equal to the mean of the population. Furthermore, all of the samples will follow an approximate normal distribution pattern, with all variances being approximately equal to the variance of the population divided by each sample's size."
      ]
    },
    {
      "cell_type": "code",
      "execution_count": null,
      "metadata": {
        "id": "zIMiz9jUQWsB",
        "outputId": "798bd24b-4e2f-4361-906a-bfa9a7a551bb"
      },
      "outputs": [
        {
          "data": {
            "image/png": "[encoded data removed]",
            "text/plain": [
              "<Figure size 936x1080 with 21 Axes>"
            ]
          },
          "metadata": {},
          "output_type": "display_data"
        }
      ],
      "source": [
        "# lets check Central Limit theorem for this data\n",
        "\n",
        "# provides capability to define function with partial arguments\n",
        "from functools import partial\n",
        "\n",
        "# number of samples to average over.\n",
        "n=np.array([1, 2, 3, 5, 10, 100, 200])\n",
        "\n",
        "# number of times samples of size n are taken. Try varying this number.\n",
        "N = 1000\n",
        "\n",
        "# number of bin boundaries on plots\n",
        "nobb=101\n",
        "\n",
        "# mean of exponential distribution\n",
        "exp_mean=3\n",
        "\n",
        "# parameters of beta distribution\n",
        "a,b=0.7,0.5 \n",
        "\n",
        "dist=[partial(np.random.random), \n",
        "      partial(np.random.exponential, exp_mean),\n",
        "      partial(np.random.beta, a, b)]\n",
        "\n",
        "# lets define the title names.\n",
        "title_names=[\"Flat\",\n",
        "             \"Exponential (mean=%.1f)\" % exp_mean, \n",
        "             \"Beta (a=%.1f, b=%.1f)\" % (a,b)]\n",
        "\n",
        "# ranges of the three distributions\n",
        "drange=np.array([[0,1],[0,10],[0,1]]) \n",
        "\n",
        "# means of the three distributions\n",
        "means=np.array([0.5,exp_mean,a/(a+b)])\n",
        "\n",
        "# variances of the three distributions\n",
        "var=np.array([1/12,exp_mean**2,a*b/((a+b+1)*(a+b)**2)]) \n",
        "\n",
        "# generates random samples in the specified ranges for the respective distributions.\n",
        "binrange=np.array([np.linspace(p,q,nobb) for p,q in drange]) \n",
        "ln,ld=len(n),len(dist)\n",
        "plt.figure(figsize=((ld*4)+1,(ln*2)+1))\n",
        "\n",
        " # loop over number of n samples to average over\n",
        "for i in range(ln):\n",
        "     # loop over the different distributions\n",
        "    for j in range(ld):\n",
        "        plt.subplot(ln,ld,i*ld+1+j)\n",
        "        plt.hist(np.mean(dist[j]((N,n[i])),1),binrange[j],normed=True)\n",
        "        plt.xlim(drange[j])\n",
        "        if j==0:\n",
        "            plt.ylabel('n=%i' % n[i],fontsize=15)        \n",
        "        if i==0:\n",
        "            plt.title(title_names[j], fontsize=15)\n",
        "        else:\n",
        "            clt=(1/(np.sqrt(2*np.pi*var[j]/n[i])))*np.exp(-(((binrange[j]-means[j])**2)*n[i]/(2*var[j])))\n",
        "            plt.plot(binrange[j],clt,'y',linewidth=2)     \n",
        "plt.show()"
      ]
    },
    {
      "cell_type": "markdown",
      "metadata": {
        "id": "za4MZW5OQWsB"
      },
      "source": [
        "\n",
        "In the graphs above the yellow curve is the predicted Gaussian distribution from the Central Limit Thereom. Notice that the rate of convergence of the sample mean to the Gaussian depends on the original parent distribution. Also,\n",
        "\n",
        "the mean of the Gaussian distribution is the same as the original parent distribution,\n",
        "the width of the Gaussian distribution varies with sample size as $1/\\sqrt{n}$."
      ]
    },
    {
      "cell_type": "markdown",
      "metadata": {
        "id": "B83Adv5GQWsB"
      },
      "source": [
        "## Confidence Interval\n",
        "\n",
        "\n",
        "**Confidence Interval (CI)** is a type of estimate computed from the statistics of the observed data. This proposes a range of plausible values for an unknown parameter (for example, the mean). The interval has an associated confidence level that the true parameter is in the proposed range.\n"
      ]
    },
    {
      "cell_type": "code",
      "execution_count": null,
      "metadata": {
        "id": "kYonknn5QWsB",
        "outputId": "780c98fa-565e-4b5d-8bf5-396bb738c372"
      },
      "outputs": [
        {
          "name": "stdout",
          "output_type": "stream",
          "text": [
            "z-critical value:  1.6448536269514722\n",
            "Confidence interval: (178338.05201966673, 186602.42998033328)\n",
            "True mean: 180921.19589041095\n"
          ]
        }
      ],
      "source": [
        "# lets import the scipy package\n",
        "import scipy.stats as stats\n",
        "import math\n",
        "\n",
        "# lets seed the random values\n",
        "np.random.seed(10)\n",
        "\n",
        "# lets take a sample size\n",
        "sample_size = 1000\n",
        "sample = np.random.choice(a= data['SalePrice'],\n",
        "                          size = sample_size)\n",
        "sample_mean = sample.mean()\n",
        "\n",
        "# Get the z-critical value*\n",
        "z_critical = stats.norm.ppf(q = 0.95)  \n",
        "\n",
        " # Check the z-critical value  \n",
        "print(\"z-critical value: \",z_critical)                                \n",
        "\n",
        "# Get the population standard deviation\n",
        "pop_stdev = data['SalePrice'].std()  \n",
        "\n",
        "# checking the margin of error\n",
        "margin_of_error = z_critical * (pop_stdev/math.sqrt(sample_size)) \n",
        "\n",
        "# defining our confidence interval\n",
        "confidence_interval = (sample_mean - margin_of_error,\n",
        "                       sample_mean + margin_of_error)  \n",
        "\n",
        "# lets print the results\n",
        "print(\"Confidence interval:\",end=\" \")\n",
        "print(confidence_interval)\n",
        "print(\"True mean: {}\".format(data['SalePrice'].mean()))"
      ]
    },
    {
      "cell_type": "markdown",
      "metadata": {
        "id": "T-cCmlRFQWsB"
      },
      "source": [
        "* Notice that the true mean is contained in our interval.\n",
        "* A confidence interval of 95% would mean that if we take many samples and create confidence intervals for each of them, 95% of our samples' confidence intervals will contain the true population mean.\n",
        "* Now, let's create several confidence intervals and plot them to get a better sense of what it means to \"capture\" the true mean"
      ]
    },
    {
      "cell_type": "code",
      "execution_count": null,
      "metadata": {
        "id": "gDJZxJ1IQWsB",
        "outputId": "3af35044-99e1-44a1-8959-76335c939cea"
      },
      "outputs": [
        {
          "data": {
            "image/png": "[encoded data removed]",
            "text/plain": [
              "<Figure size 936x648 with 1 Axes>"
            ]
          },
          "metadata": {},
          "output_type": "display_data"
        }
      ],
      "source": [
        "np.random.seed(12)\n",
        "\n",
        "sample_size = 500\n",
        "\n",
        "intervals = []\n",
        "sample_means = []\n",
        "\n",
        "for sample in range(25):\n",
        "    sample = np.random.choice(a= data['SalePrice'], size = sample_size)\n",
        "    sample_mean = sample.mean()\n",
        "    sample_means.append(sample_mean)\n",
        "\n",
        "     # Get the z-critical value* \n",
        "    z_critical = stats.norm.ppf(q = 0.975)         \n",
        "\n",
        "    # Get the population standard deviation\n",
        "    pop_stdev = data['SalePrice'].std()  \n",
        "\n",
        "    stats.norm.ppf(q = 0.025)\n",
        "\n",
        "    margin_of_error = z_critical * (pop_stdev/math.sqrt(sample_size))\n",
        "\n",
        "    confidence_interval = (sample_mean - margin_of_error,\n",
        "                           sample_mean + margin_of_error)  \n",
        "    \n",
        "    intervals.append(confidence_interval)\n",
        "    \n",
        "\n",
        "plt.figure(figsize=(13, 9))\n",
        "\n",
        "plt.errorbar(x=np.arange(0.1, 25, 1), \n",
        "             y=sample_means, \n",
        "             yerr=[(top-bot)/2 for top,bot in intervals],\n",
        "             fmt='o')\n",
        "\n",
        "plt.hlines(xmin=0, xmax=25,\n",
        "           y=data['SalePrice'].mean(), \n",
        "           linewidth=2.0,\n",
        "           color=\"red\")\n",
        "plt.title('Confidence Intervals for 25 Trials', fontsize = 20)\n",
        "plt.show()"
      ]
    },
    {
      "cell_type": "markdown",
      "metadata": {
        "id": "phOC6ESQQWsC"
      },
      "source": [
        "* It is easily visible that 95% of the times the blue lines(the sample meean) overlaps with the red line(the true mean), also 5% of the times it is expected to not overlap with the red line(the true mean)."
      ]
    },
    {
      "cell_type": "markdown",
      "metadata": {
        "id": "Ok4gtebUQWsC"
      },
      "source": [
        "## Hypothesis Testing"
      ]
    },
    {
      "cell_type": "markdown",
      "metadata": {
        "id": "1sOCbAH4QWsC"
      },
      "source": [
        "* $Statistical Hypothesis$, sometimes called confirmatory data analysis, is a hypothesis that is testable on the basis of observing a process that is modeled via a set of random variables. A statistical hypothesis test is a method of statistical inference.\n",
        "\n",
        "### Null Hypothesis\n",
        "\n",
        "* In Inferential Statistics, **The Null Hypothesis is a general statement or default position that there is no relationship between two measured phenomena or no association among groups.**\n",
        "\n",
        "* Statistical hypothesis tests are based on a statement called the null hypothesis that assumes nothing interesting is going on between whatever variables you are testing.\n",
        "\n",
        "* Therefore, in our case the Null Hypothesis would be:\n",
        "**The Mean of House Prices in OldTown is not different from the houses of other neighborhoods**\n",
        "\n",
        "### Alternate Hypothesis\n",
        "\n",
        "* The alternate hypothesis is just an alternative to the null. For example, if your null is **I'm going to win up to 1000** then your alternate is **I'm going to win more than 1000.** Basically, you're looking at whether there's enough change (with the alternate hypothesis) to be able to reject the null hypothesis\n",
        "\n",
        "###  The Null Hypothesis is assumed to be true and Statistical evidence is required to reject it in favor of an Alternative Hypothesis."
      ]
    },
    {
      "cell_type": "markdown",
      "metadata": {
        "id": "adET241RQWsC"
      },
      "source": [
        "### P Value\n",
        "\n",
        "* In statistical hypothesis testing, **the p-value or probability value** is the probability of obtaining test results at least as extreme as the results actually observed during the test, assuming that the null hypothesis is correct. \n",
        "\n",
        "* So now say that we have put a significance (α) = 0.05\n",
        "* This means that if we see a p-value of lesser than 0.05, we reject our Null and accept the Alternative to be true\n"
      ]
    },
    {
      "cell_type": "markdown",
      "metadata": {
        "id": "stttt0R3QWsC"
      },
      "source": [
        "\n",
        "**Are house prices in OldTown really different from the House Prices of Other Neighborhoods?**"
      ]
    },
    {
      "cell_type": "code",
      "execution_count": null,
      "metadata": {
        "id": "f-PvhtowQWsC",
        "outputId": "c76b23d4-2702-4843-d08a-404bc19a3d6e"
      },
      "outputs": [
        {
          "name": "stdout",
          "output_type": "stream",
          "text": [
            "Z-statistic is :-10.639294263334575\n",
            "P-value is :0.00000000000000000000000001956052602626001826532572\n"
          ]
        }
      ],
      "source": [
        "# lets import z test from statsmodels\n",
        "from statsmodels.stats.weightstats import ztest\n",
        "\n",
        "z_statistic, p_value = ztest(x1 = data[data['Neighborhood'] == 'OldTown']['SalePrice'],\n",
        "                             value = data['SalePrice'].mean())\n",
        "\n",
        "# lets print the Results\n",
        "print('Z-statistic is :{}'.format(z_statistic))\n",
        "print('P-value is :{:.50f}'.format(p_value))"
      ]
    },
    {
      "cell_type": "markdown",
      "metadata": {
        "id": "_ZQr31tkQWsC"
      },
      "source": [
        "* If the P value if less than 0.05, then we can reject our null hypothesis against the alternate hypothesis.\n",
        "\n",
        "* **The Probability of getting the given distribution of houseprices in OldTown under the assumption that its mean, is the same as the mean of all house prices.**"
      ]
    },
    {
      "cell_type": "markdown",
      "metadata": {
        "id": "GumHaqw3QWsC"
      },
      "source": [
        "\n",
        "### Another way to test: Gosset's (Student's) t-test"
      ]
    },
    {
      "cell_type": "markdown",
      "metadata": {
        "id": "WWSYllqpQWsD"
      },
      "source": [
        "* The T-test is a statistical test used to determine whether a numeric data sample differs significantly from the population or whether two samples differ from one another.\n",
        "* A z-test assumes a sample size >30 to work, but what if our sample is less than 30?\n",
        "* A t-test solves this problem and gives us a way to do a hypothesis test on a smaller sample.\n",
        "* Now, let's also see if house prices in Stone Brook neighborhood are different from the houses in the rest of the neighborhoods."
      ]
    },
    {
      "cell_type": "markdown",
      "metadata": {
        "id": "E0aEDimFQWsD"
      },
      "source": [
        "### Now, let's also see if house prices in Stone Brook neighborhood are different from the houses in the rest of the neighborhoods."
      ]
    },
    {
      "cell_type": "code",
      "execution_count": null,
      "metadata": {
        "id": "qKE-iQe-QWsD",
        "outputId": "e55edac7-8d7a-4f64-a167-6e81380a3010"
      },
      "outputs": [
        {
          "name": "stdout",
          "output_type": "stream",
          "text": [
            "No of houses in Stone Brook: 25\n"
          ]
        }
      ],
      "source": [
        "print('No of houses in Stone Brook: {}'\\\n",
        "      .format(data['Neighborhood'].value_counts()['StoneBr']))\n"
      ]
    },
    {
      "cell_type": "code",
      "execution_count": null,
      "metadata": {
        "id": "HJ6cvgkLQWsD",
        "outputId": "36d3f484-dd95-4bd7-873b-a2b240917b76"
      },
      "outputs": [
        {
          "data": {
            "text/plain": [
              "Ttest_1sampResult(statistic=5.735070151700397, pvalue=6.558704101036394e-06)"
            ]
          },
          "execution_count": 30,
          "metadata": {},
          "output_type": "execute_result"
        }
      ],
      "source": [
        "stats.ttest_1samp(a= data[data['Neighborhood'] == 'StoneBr']['SalePrice'],               # Sample data\n",
        "                 popmean= data['SalePrice'].mean())  # Pop mean"
      ]
    },
    {
      "cell_type": "markdown",
      "metadata": {
        "id": "10PeLMlmQWsD"
      },
      "source": [
        "The p-value in this case again is low and we can reject our null hypothesis"
      ]
    },
    {
      "cell_type": "markdown",
      "metadata": {
        "id": "Em0l2WqFQWsD"
      },
      "source": [
        "## Type 1 and Type 2 Error\n",
        "\n",
        "* In statistical hypothesis testing, a type I error is the rejection of a true null hypothesis, while a type II error is the non-rejection of a false null hypothesis\n",
        "\n",
        "### Type 1  and Type 2 Error Example\n",
        "\n",
        "For example, let's look at the trail of an accused criminal. The null hypothesis is that the person is innocent, while the alternative is guilty. \n",
        "* A Type 1 error in this case would mean that the person is not found innocent and is sent to jail, despite actually being innocent.\n",
        "* A Type 2 Erroe Example In this case would be, the person is found innocent and not sent to jail despite of him being guilty in real.\n"
      ]
    },
    {
      "cell_type": "markdown",
      "metadata": {
        "id": "BNbIQStuQWsD"
      },
      "source": [
        "### Chi Square Test\n",
        "\n",
        "The term \"chi-squared test,\" also written as χ² test, refers to certain types of statistical hypothesis tests that are valid to perform when the test statistic is chi-squared distributed under the null hypothesis. Often, however, the term is used to refer to Pearson's chi-squared test and variants thereof.\n",
        "\n",
        "***A chi-squared goodness of fit tests whether the distribution of sample categorical data matches an expected distribution.***\n",
        "\n",
        "For example, \n",
        "* *you could use a chi-squared goodness-of-fit test to check whether the race demographics of members at your church or school match that of the entire population of your country*.\n",
        "* *you could check whether the computer browser preferences of your friends match those of Internet uses as a whole.*\n",
        "\n",
        "* *When working with categorical data the values the observations themselves aren't of much use for statistical testing because categories like \"male\", \"female,\" and \"other\" have no mathematical meaning.*"
      ]
    },
    {
      "cell_type": "markdown",
      "metadata": {
        "id": "__gNMGwrQWsD"
      },
      "source": [
        "#### Let's generate some fake demographic data for U.S. and Minnesota and walk through the chi-square goodness of fit test to check whether they are different:\n",
        "\n"
      ]
    },
    {
      "cell_type": "markdown",
      "metadata": {
        "id": "ae0iE5gXQWsD"
      },
      "source": [
        "## Chi-Squared Goodness of fit Test"
      ]
    },
    {
      "cell_type": "code",
      "execution_count": null,
      "metadata": {
        "id": "hMSIAn-rQWsD",
        "outputId": "e801cc21-9708-4c5e-c2e9-c5eefcbfd234"
      },
      "outputs": [
        {
          "name": "stdout",
          "output_type": "stream",
          "text": [
            "National\n",
            "col_0      count\n",
            "0               \n",
            "asian      15000\n",
            "black      50000\n",
            "hispanic   60000\n",
            "other      35000\n",
            "white     100000\n",
            " \n",
            "Minnesota\n",
            "col_0     count\n",
            "0              \n",
            "asian        75\n",
            "black       250\n",
            "hispanic    300\n",
            "other       150\n",
            "white       600\n"
          ]
        }
      ],
      "source": [
        "national = pd.DataFrame([\"white\"]*100000 + [\"hispanic\"]*60000 +\\\n",
        "                        [\"black\"]*50000 + [\"asian\"]*15000 + [\"other\"]*35000)          \n",
        "\n",
        "minnesota = pd.DataFrame([\"white\"]*600 + [\"hispanic\"]*300 + \\\n",
        "                         [\"black\"]*250 +[\"asian\"]*75 + [\"other\"]*150)\n",
        "\n",
        "national_table = pd.crosstab(index=national[0], columns=\"count\")\n",
        "minnesota_table = pd.crosstab(index=minnesota[0], columns=\"count\")\n",
        "\n",
        "print( \"National\")\n",
        "print(national_table)\n",
        "print(\" \")\n",
        "print( \"Minnesota\")\n",
        "print(minnesota_table)"
      ]
    },
    {
      "cell_type": "markdown",
      "metadata": {
        "id": "SlFCzUE1QWsD"
      },
      "source": [
        "![image.png](attachment:image.png)\n",
        "\n",
        "* **Good Fit**: If the significance value that is p-value associated with chi-square statistics is 0.002, there is very strong evidence of rejecting the null hypothesis of no fit. It means good fit."
      ]
    },
    {
      "cell_type": "code",
      "execution_count": null,
      "metadata": {
        "id": "ftdjDvKRQWsD",
        "outputId": "460dcdc0-32fe-4702-bcaf-76d83f81db0a"
      },
      "outputs": [
        {
          "name": "stdout",
          "output_type": "stream",
          "text": [
            "col_0\n",
            "count    18.194805\n",
            "dtype: float64\n"
          ]
        }
      ],
      "source": [
        "observed = minnesota_table\n",
        "\n",
        "national_ratios = national_table/len(national)  # Get population ratios\n",
        "\n",
        "expected = national_ratios * len(minnesota)   # Get expected counts\n",
        "\n",
        "chi_squared_stat = (((observed-expected)**2)/expected).sum()\n",
        "\n",
        "print(chi_squared_stat)"
      ]
    },
    {
      "cell_type": "markdown",
      "metadata": {
        "id": "8r0RNya6QWsD"
      },
      "source": [
        "## Chi-Sqaured Test of Independence"
      ]
    },
    {
      "cell_type": "markdown",
      "metadata": {
        "id": "LUfbgweoQWsD"
      },
      "source": [
        "### Effect of LandContour on SalePrice"
      ]
    },
    {
      "cell_type": "code",
      "execution_count": null,
      "metadata": {
        "id": "vLvWOKJ_QWsE",
        "outputId": "544bf391-6e37-4299-ff9f-e8b336a2ba1e"
      },
      "outputs": [
        {
          "name": "stdout",
          "output_type": "stream",
          "text": [
            "Frequency table\n",
            "============================\n",
            "SalePrice    High  Medium  Low\n",
            "LandContour                   \n",
            "Bnk            32      20   11\n",
            "HLS            10      12   28\n",
            "Low             8      11   17\n",
            "Lvl           437     447  427\n",
            "============================\n",
            "ChiSquare test statistic:  26.252544346201447\n",
            "p-value:  0.00019976918050008285\n"
          ]
        }
      ],
      "source": [
        "# Let's test if knowing LandContour which is the overall flatness of the property tells us anything about the price\n",
        "\n",
        "# For this let's divide the SalePrice in three buckets - High, Medium, Low\n",
        "\n",
        "import scipy.stats as sp\n",
        "def compute_freq_chi2(x,y):\n",
        "    freqtab = pd.crosstab(x,y)\n",
        "    print(\"Frequency table\")\n",
        "    print(\"============================\")\n",
        "    print(freqtab)\n",
        "    print(\"============================\")\n",
        "    chi2, pval, dof, expected = sp.chi2_contingency(freqtab)\n",
        "    print(\"ChiSquare test statistic: \",chi2)\n",
        "    print(\"p-value: \",pval)\n",
        "    return\n",
        "\n",
        "\n",
        "price = pd.qcut(data['SalePrice'], 3, labels = ['High', 'Medium', 'Low'])\n",
        "compute_freq_chi2(data.LandContour, price)"
      ]
    },
    {
      "cell_type": "markdown",
      "metadata": {
        "id": "XcVzPfIJQWsE"
      },
      "source": [
        "* The low p-value tells us that the two variables aren't independent and knowing the LandContour of a house does tells us something about its SalePrice.\n",
        "\n",
        "**The frequency distribution reflects this**\n",
        "* Houses that are Near Flat/Level(Lvl) have an equal distribution of SalePrice.\n",
        "* On the other hand houses that are at a Hillside i.e., Significant slope from side to side (HLS) have almost thrice as much houses with low price than high prices."
      ]
    }
  ],
  "metadata": {
    "kernelspec": {
      "display_name": "Python 3",
      "language": "python",
      "name": "python3"
    },
    "language_info": {
      "codemirror_mode": {
        "name": "ipython",
        "version": 3
      },
      "file_extension": ".py",
      "mimetype": "text/x-python",
      "name": "python",
      "nbconvert_exporter": "python",
      "pygments_lexer": "ipython3",
      "version": "3.6.8"
    },
    "colab": {
      "name": "Statistics 101 | Inferential Statistics",
      "provenance": [],
      "include_colab_link": true
    }
  },
  "nbformat": 4,
  "nbformat_minor": 0
}