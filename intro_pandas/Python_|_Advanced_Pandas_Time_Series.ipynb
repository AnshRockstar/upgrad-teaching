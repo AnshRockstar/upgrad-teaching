{
  "nbformat": 4,
  "nbformat_minor": 0,
  "metadata": {
    "kernelspec": {
      "display_name": "Python 3",
      "language": "python",
      "name": "python3"
    },
    "language_info": {
      "codemirror_mode": {
        "name": "ipython",
        "version": 3
      },
      "file_extension": ".py",
      "mimetype": "text/x-python",
      "name": "python",
      "nbconvert_exporter": "python",
      "pygments_lexer": "ipython3",
      "version": "3.5.2"
    },
    "nav_menu": {},
    "toc": {
      "navigate_menu": true,
      "number_sections": true,
      "sideBar": true,
      "threshold": 6,
      "toc_cell": false,
      "toc_section_display": "block",
      "toc_window_display": true
    },
    "toc_position": {
      "height": "500px",
      "left": "0px",
      "right": "986px",
      "top": "106px",
      "width": "214px"
    },
    "colab": {
      "name": "Python | Advanced Pandas Time Series",
      "provenance": [],
      "collapsed_sections": [],
      "include_colab_link": true
    }
  },
  "cells": [
    {
      "cell_type": "markdown",
      "metadata": {
        "id": "view-in-github",
        "colab_type": "text"
      },
      "source": [
        "<a href=\"https://colab.research.google.com/github/tamojit-maiti/upgrad-teaching/blob/main/intro_pandas/Python_%7C_Advanced_Pandas_Time_Series.ipynb\" target=\"_parent\"><img src=\"https://colab.research.google.com/assets/colab-badge.svg\" alt=\"Open In Colab\"/></a>"
      ]
    },
    {
      "cell_type": "markdown",
      "metadata": {
        "id": "0F92BPNI5I95"
      },
      "source": [
        "<p><font size=\"6\"><b>Pandas: Working with time series data</b></font></p>\n",
        "\n",
        "\n",
        "---"
      ]
    },
    {
      "cell_type": "code",
      "metadata": {
        "collapsed": true,
        "run_control": {
          "frozen": false,
          "read_only": false
        },
        "id": "KjrPn2P35I99"
      },
      "source": [
        "import pandas as pd\n",
        "import numpy as np\n",
        "import matplotlib.pyplot as plt\n",
        "\n",
        "pd.options.display.max_rows = 8"
      ],
      "execution_count": null,
      "outputs": []
    },
    {
      "cell_type": "markdown",
      "metadata": {
        "id": "V0BLkxES5I9_"
      },
      "source": [
        "# Introduction: `datetime` module"
      ]
    },
    {
      "cell_type": "markdown",
      "metadata": {
        "id": "htgVTN775I9_"
      },
      "source": [
        "Standard Python contains the `datetime` module to handle with date and time data:"
      ]
    },
    {
      "cell_type": "code",
      "metadata": {
        "collapsed": true,
        "run_control": {
          "frozen": false,
          "read_only": false
        },
        "id": "9EEXnVEO5I-A"
      },
      "source": [
        "import datetime"
      ],
      "execution_count": null,
      "outputs": []
    },
    {
      "cell_type": "code",
      "metadata": {
        "collapsed": true,
        "run_control": {
          "frozen": false,
          "read_only": false
        },
        "colab": {
          "base_uri": "https://localhost:8080/"
        },
        "id": "tFGgia-Z5I-A",
        "outputId": "89f1d664-c2b7-40b6-b4c9-1309d4f7af3b"
      },
      "source": [
        "dt = datetime.datetime(year=2016, month=12, day=19, hour=13, minute=30)\n",
        "dt"
      ],
      "execution_count": null,
      "outputs": [
        {
          "output_type": "execute_result",
          "data": {
            "text/plain": [
              "datetime.datetime(2016, 12, 19, 13, 30)"
            ]
          },
          "metadata": {},
          "execution_count": 3
        }
      ]
    },
    {
      "cell_type": "code",
      "metadata": {
        "collapsed": true,
        "run_control": {
          "frozen": false,
          "read_only": false
        },
        "colab": {
          "base_uri": "https://localhost:8080/"
        },
        "id": "t4fCKxQb5I-A",
        "outputId": "3525fce6-c60d-44d1-a077-c6bad58abf7e"
      },
      "source": [
        "print(dt) # .day,..."
      ],
      "execution_count": null,
      "outputs": [
        {
          "output_type": "stream",
          "text": [
            "2016-12-19 13:30:00\n"
          ],
          "name": "stdout"
        }
      ]
    },
    {
      "cell_type": "code",
      "metadata": {
        "collapsed": true,
        "run_control": {
          "frozen": false,
          "read_only": false
        },
        "colab": {
          "base_uri": "https://localhost:8080/"
        },
        "id": "be5KcKph5I-B",
        "outputId": "bdbc628e-1aa6-4987-ed0c-000cf5fcb4f2"
      },
      "source": [
        "print(dt.strftime(\"%d %B %Y\"))"
      ],
      "execution_count": null,
      "outputs": [
        {
          "output_type": "stream",
          "text": [
            "19 December 2016\n"
          ],
          "name": "stdout"
        }
      ]
    },
    {
      "cell_type": "code",
      "metadata": {
        "colab": {
          "base_uri": "https://localhost:8080/"
        },
        "id": "TFwB7-4RXgxx",
        "outputId": "4da4cb28-6eef-42c9-f6a0-09272742b39d"
      },
      "source": [
        "dt.hour"
      ],
      "execution_count": null,
      "outputs": [
        {
          "output_type": "execute_result",
          "data": {
            "text/plain": [
              "13"
            ]
          },
          "metadata": {},
          "execution_count": 6
        }
      ]
    },
    {
      "cell_type": "markdown",
      "metadata": {
        "id": "Fy1Z03Ue5I-C"
      },
      "source": [
        "# Dates and times in pandas"
      ]
    },
    {
      "cell_type": "markdown",
      "metadata": {
        "id": "OLs2yApm5I-C"
      },
      "source": [
        "## The ``Timestamp`` object"
      ]
    },
    {
      "cell_type": "markdown",
      "metadata": {
        "id": "QhzF8Wv_5I-C"
      },
      "source": [
        "Pandas has its own date and time objects, which are compatible with the standard `datetime` objects, but provide some more functionality to work with.  \n",
        "\n",
        "The `Timestamp` object can also be constructed from a string:"
      ]
    },
    {
      "cell_type": "code",
      "metadata": {
        "collapsed": true,
        "run_control": {
          "frozen": false,
          "read_only": false
        },
        "colab": {
          "base_uri": "https://localhost:8080/"
        },
        "id": "pU0avVgL5I-D",
        "outputId": "7592fdde-7449-4fc8-c9be-595058af0bd0"
      },
      "source": [
        "ts = pd.Timestamp('2016-12-19')\n",
        "ts"
      ],
      "execution_count": null,
      "outputs": [
        {
          "output_type": "execute_result",
          "data": {
            "text/plain": [
              "Timestamp('2016-12-19 00:00:00')"
            ]
          },
          "metadata": {},
          "execution_count": 7
        }
      ]
    },
    {
      "cell_type": "markdown",
      "metadata": {
        "id": "TJaatueU5I-D"
      },
      "source": [
        "Like with `datetime.datetime` objects, there are several useful attributes available on the `Timestamp`. For example, we can get the month:"
      ]
    },
    {
      "cell_type": "code",
      "metadata": {
        "collapsed": true,
        "run_control": {
          "frozen": false,
          "read_only": false
        },
        "colab": {
          "base_uri": "https://localhost:8080/"
        },
        "id": "uCjq1xhD5I-D",
        "outputId": "982cbbf6-b791-44dd-d38a-a2d45bf157a9"
      },
      "source": [
        "ts.month"
      ],
      "execution_count": null,
      "outputs": [
        {
          "output_type": "execute_result",
          "data": {
            "text/plain": [
              "12"
            ]
          },
          "metadata": {},
          "execution_count": 8
        }
      ]
    },
    {
      "cell_type": "code",
      "metadata": {
        "colab": {
          "base_uri": "https://localhost:8080/"
        },
        "id": "pVDTRVhsWGZX",
        "outputId": "522bfa1b-062b-4f1c-a20d-0594c6a5d766"
      },
      "source": [
        "ts.year"
      ],
      "execution_count": null,
      "outputs": [
        {
          "output_type": "execute_result",
          "data": {
            "text/plain": [
              "2016"
            ]
          },
          "metadata": {},
          "execution_count": 9
        }
      ]
    },
    {
      "cell_type": "code",
      "metadata": {
        "collapsed": true,
        "run_control": {
          "frozen": false,
          "read_only": false
        },
        "colab": {
          "base_uri": "https://localhost:8080/"
        },
        "id": "xNxQUDlR5I-E",
        "outputId": "b674eb53-b91c-409f-ff1e-e311828eda60"
      },
      "source": [
        "ts - pd.Timedelta('1 days')"
      ],
      "execution_count": null,
      "outputs": [
        {
          "output_type": "execute_result",
          "data": {
            "text/plain": [
              "Timestamp('2016-12-18 00:00:00')"
            ]
          },
          "metadata": {},
          "execution_count": 10
        }
      ]
    },
    {
      "cell_type": "markdown",
      "metadata": {
        "id": "PzJmr4BZ5I-E"
      },
      "source": [
        "### Parsing datetime strings "
      ]
    },
    {
      "cell_type": "markdown",
      "metadata": {
        "id": "wbMKQICT5I-E"
      },
      "source": [
        "Unfortunately, when working with real world data, you encounter many different `datetime` formats. Most of the time when you have to deal with them, they come in text format, e.g. from a `CSV` file. To work with those data in Pandas, we first have to *parse* the strings to actual `Timestamp` objects."
      ]
    },
    {
      "cell_type": "markdown",
      "metadata": {
        "id": "FU-AN4J65I-E"
      },
      "source": [
        "<div class=\"alert alert-info\">\n",
        "<b>REMEMBER</b>: <br><br>\n",
        "\n",
        "from string formatted dates to Timestamp objects: `to_datetime` function\n",
        "</div>\n",
        "\n"
      ]
    },
    {
      "cell_type": "code",
      "metadata": {
        "collapsed": true,
        "run_control": {
          "frozen": false,
          "read_only": false
        },
        "colab": {
          "base_uri": "https://localhost:8080/"
        },
        "id": "on01C13C5I-F",
        "outputId": "7d33c484-6557-4555-b5bc-9fbd59ab70a4"
      },
      "source": [
        "pd.to_datetime(\"2016-/-05-/-09\")"
      ],
      "execution_count": null,
      "outputs": [
        {
          "output_type": "execute_result",
          "data": {
            "text/plain": [
              "Timestamp('2016-05-09 00:00:00')"
            ]
          },
          "metadata": {},
          "execution_count": 11
        }
      ]
    },
    {
      "cell_type": "code",
      "metadata": {
        "collapsed": true,
        "run_control": {
          "frozen": false,
          "read_only": false
        },
        "colab": {
          "base_uri": "https://localhost:8080/"
        },
        "id": "chrgEasa5I-F",
        "outputId": "cf0d6286-7ec1-4947-dc69-0da34780cceb"
      },
      "source": [
        "pd.to_datetime(\"09/12/2016\")"
      ],
      "execution_count": null,
      "outputs": [
        {
          "output_type": "execute_result",
          "data": {
            "text/plain": [
              "Timestamp('2016-09-12 00:00:00')"
            ]
          },
          "metadata": {},
          "execution_count": 12
        }
      ]
    },
    {
      "cell_type": "code",
      "metadata": {
        "collapsed": true,
        "run_control": {
          "frozen": false,
          "read_only": false
        },
        "colab": {
          "base_uri": "https://localhost:8080/"
        },
        "id": "dv71Sm8B5I-F",
        "outputId": "6a45b911-03e5-4771-bb65-3899adbb6739"
      },
      "source": [
        "pd.to_datetime(\"09/12/2016\", dayfirst=True)"
      ],
      "execution_count": null,
      "outputs": [
        {
          "output_type": "execute_result",
          "data": {
            "text/plain": [
              "Timestamp('2016-12-09 00:00:00')"
            ]
          },
          "metadata": {},
          "execution_count": 13
        }
      ]
    },
    {
      "cell_type": "code",
      "metadata": {
        "collapsed": true,
        "run_control": {
          "frozen": false,
          "read_only": false
        },
        "colab": {
          "base_uri": "https://localhost:8080/"
        },
        "id": "N-W1cgcv5I-F",
        "outputId": "900ed885-9604-48ac-dc3d-d7f26492fd0a"
      },
      "source": [
        "pd.to_datetime(\"09/12/2016\", format=\"%m/%d/%Y\")"
      ],
      "execution_count": null,
      "outputs": [
        {
          "output_type": "execute_result",
          "data": {
            "text/plain": [
              "Timestamp('2016-09-12 00:00:00')"
            ]
          },
          "metadata": {},
          "execution_count": 14
        }
      ]
    },
    {
      "cell_type": "markdown",
      "metadata": {
        "collapsed": true,
        "id": "ukweWtT55I-F"
      },
      "source": [
        "A detailed overview of how to specify the `format` string, see the table in the python documentation: https://docs.python.org/3.5/library/datetime.html#strftime-and-strptime-behavior"
      ]
    },
    {
      "cell_type": "markdown",
      "metadata": {
        "id": "GqE-tc5E5I-G"
      },
      "source": [
        "## `Timestamp` data in a Series or DataFrame column"
      ]
    },
    {
      "cell_type": "code",
      "metadata": {
        "collapsed": true,
        "run_control": {
          "frozen": false,
          "read_only": false
        },
        "id": "aykLMbMD5I-G"
      },
      "source": [
        "s = pd.Series(['2016-12-09 10:00:00', '2016-12-09, 11:00:00', '2016-12-09 12:00:00'])"
      ],
      "execution_count": null,
      "outputs": []
    },
    {
      "cell_type": "markdown",
      "metadata": {
        "id": "tbSbmtsy5I-G"
      },
      "source": [
        "The `to_datetime` function can also be used to convert a full series of strings:"
      ]
    },
    {
      "cell_type": "code",
      "metadata": {
        "collapsed": true,
        "run_control": {
          "frozen": false,
          "read_only": false
        },
        "id": "75bCSJ3F5I-G"
      },
      "source": [
        "ts = pd.to_datetime(s)"
      ],
      "execution_count": null,
      "outputs": []
    },
    {
      "cell_type": "code",
      "metadata": {
        "collapsed": true,
        "run_control": {
          "frozen": false,
          "read_only": false
        },
        "colab": {
          "base_uri": "https://localhost:8080/"
        },
        "id": "zu-LGQUj5I-G",
        "outputId": "d5f1fcc8-e821-40b7-ee7f-9b2508eb7ed7"
      },
      "source": [
        "ts"
      ],
      "execution_count": null,
      "outputs": [
        {
          "output_type": "execute_result",
          "data": {
            "text/plain": [
              "0   2016-12-09 10:00:00\n",
              "1   2016-12-09 11:00:00\n",
              "2   2016-12-09 12:00:00\n",
              "dtype: datetime64[ns]"
            ]
          },
          "metadata": {},
          "execution_count": 17
        }
      ]
    },
    {
      "cell_type": "markdown",
      "metadata": {
        "id": "_zfSte605I-G"
      },
      "source": [
        "Notice the data type of this series: the `datetime64[ns]` dtype. This indicates that we have a series of actual datetime values."
      ]
    },
    {
      "cell_type": "markdown",
      "metadata": {
        "id": "Da64DPp25I-G"
      },
      "source": [
        "The same attributes as on single `Timestamp`s are also available on a Series with datetime data, using the **`.dt`** accessor:"
      ]
    },
    {
      "cell_type": "code",
      "metadata": {
        "collapsed": true,
        "run_control": {
          "frozen": false,
          "read_only": false
        },
        "scrolled": true,
        "colab": {
          "base_uri": "https://localhost:8080/"
        },
        "id": "M4Bj82uW5I-G",
        "outputId": "0c684e3c-293b-4378-dd4f-769ed5c8bef8"
      },
      "source": [
        "ts.dt.hour"
      ],
      "execution_count": null,
      "outputs": [
        {
          "output_type": "execute_result",
          "data": {
            "text/plain": [
              "0    10\n",
              "1    11\n",
              "2    12\n",
              "dtype: int64"
            ]
          },
          "metadata": {},
          "execution_count": 18
        }
      ]
    },
    {
      "cell_type": "code",
      "metadata": {
        "collapsed": true,
        "run_control": {
          "frozen": false,
          "read_only": false
        },
        "colab": {
          "base_uri": "https://localhost:8080/"
        },
        "id": "Iy3fEwiB5I-H",
        "outputId": "ba18ba05-1c81-4134-ca26-a1f789417577"
      },
      "source": [
        "ts.dt.weekday"
      ],
      "execution_count": null,
      "outputs": [
        {
          "output_type": "execute_result",
          "data": {
            "text/plain": [
              "0    4\n",
              "1    4\n",
              "2    4\n",
              "dtype: int64"
            ]
          },
          "metadata": {},
          "execution_count": 19
        }
      ]
    },
    {
      "cell_type": "code",
      "metadata": {
        "colab": {
          "base_uri": "https://localhost:8080/"
        },
        "id": "L3rORjhHXWL6",
        "outputId": "ea3d08db-382b-4322-9018-b34f949a0fc1"
      },
      "source": [
        "ts.map(lambda x: x.hour)"
      ],
      "execution_count": null,
      "outputs": [
        {
          "output_type": "execute_result",
          "data": {
            "text/plain": [
              "0    10\n",
              "1    11\n",
              "2    12\n",
              "dtype: int64"
            ]
          },
          "metadata": {},
          "execution_count": 20
        }
      ]
    },
    {
      "cell_type": "markdown",
      "metadata": {
        "id": "Zu2q3Q6n5I-H"
      },
      "source": [
        "To quickly construct some regular time series data, the [``pd.date_range``](http://pandas.pydata.org/pandas-docs/stable/generated/pandas.date_range.html) function comes in handy:"
      ]
    },
    {
      "cell_type": "code",
      "metadata": {
        "collapsed": true,
        "run_control": {
          "frozen": false,
          "read_only": false
        },
        "colab": {
          "base_uri": "https://localhost:8080/"
        },
        "id": "yVtdej8Q5I-H",
        "outputId": "a7cab254-b924-4d4f-e705-dceae1c38e9b"
      },
      "source": [
        "pd.Series(pd.date_range(start=\"2016-01-01\", periods=10, freq='3H'))"
      ],
      "execution_count": null,
      "outputs": [
        {
          "output_type": "execute_result",
          "data": {
            "text/plain": [
              "0   2016-01-01 00:00:00\n",
              "1   2016-01-01 03:00:00\n",
              "2   2016-01-01 06:00:00\n",
              "3   2016-01-01 09:00:00\n",
              "            ...        \n",
              "6   2016-01-01 18:00:00\n",
              "7   2016-01-01 21:00:00\n",
              "8   2016-01-02 00:00:00\n",
              "9   2016-01-02 03:00:00\n",
              "Length: 10, dtype: datetime64[ns]"
            ]
          },
          "metadata": {},
          "execution_count": 21
        }
      ]
    },
    {
      "cell_type": "markdown",
      "metadata": {
        "id": "Fq16g1-05I-H"
      },
      "source": [
        "# Time series data: `Timestamp` in the index"
      ]
    },
    {
      "cell_type": "markdown",
      "metadata": {
        "id": "68fsFCgI5I-H"
      },
      "source": [
        "## River discharge example data"
      ]
    },
    {
      "cell_type": "markdown",
      "metadata": {
        "id": "EmAUNDdl5I-J"
      },
      "source": [
        "For the following demonstration of the time series functionality, we use a sample of discharge data of the total riverwater in the Flanders region of Belgium with 3 hour averaged values, derived from the [Waterinfo website](https://www.waterinfo.be/)."
      ]
    },
    {
      "cell_type": "code",
      "metadata": {
        "collapsed": true,
        "run_control": {
          "frozen": false,
          "read_only": false
        },
        "id": "4ebMhMvx5I-J"
      },
      "source": [
        "data = pd.read_csv(\"https://raw.githubusercontent.com/jorisvandenbossche/pandas-tutorial/master/data/flowdata.csv\")"
      ],
      "execution_count": null,
      "outputs": []
    },
    {
      "cell_type": "code",
      "metadata": {
        "collapsed": true,
        "run_control": {
          "frozen": false,
          "read_only": false
        },
        "colab": {
          "base_uri": "https://localhost:8080/",
          "height": 204
        },
        "id": "uBF851_D5I-J",
        "outputId": "dd01306a-e136-4f9a-b1fa-eea23a3b4fe0"
      },
      "source": [
        "data.head()"
      ],
      "execution_count": null,
      "outputs": [
        {
          "output_type": "execute_result",
          "data": {
            "text/html": [
              "<div>\n",
              "<style scoped>\n",
              "    .dataframe tbody tr th:only-of-type {\n",
              "        vertical-align: middle;\n",
              "    }\n",
              "\n",
              "    .dataframe tbody tr th {\n",
              "        vertical-align: top;\n",
              "    }\n",
              "\n",
              "    .dataframe thead th {\n",
              "        text-align: right;\n",
              "    }\n",
              "</style>\n",
              "<table border=\"1\" class=\"dataframe\">\n",
              "  <thead>\n",
              "    <tr style=\"text-align: right;\">\n",
              "      <th></th>\n",
              "      <th>Time</th>\n",
              "      <th>L06_347</th>\n",
              "      <th>LS06_347</th>\n",
              "      <th>LS06_348</th>\n",
              "    </tr>\n",
              "  </thead>\n",
              "  <tbody>\n",
              "    <tr>\n",
              "      <th>0</th>\n",
              "      <td>2009-01-01 00:00:00</td>\n",
              "      <td>0.137417</td>\n",
              "      <td>0.097500</td>\n",
              "      <td>0.016833</td>\n",
              "    </tr>\n",
              "    <tr>\n",
              "      <th>1</th>\n",
              "      <td>2009-01-01 03:00:00</td>\n",
              "      <td>0.131250</td>\n",
              "      <td>0.088833</td>\n",
              "      <td>0.016417</td>\n",
              "    </tr>\n",
              "    <tr>\n",
              "      <th>2</th>\n",
              "      <td>2009-01-01 06:00:00</td>\n",
              "      <td>0.113500</td>\n",
              "      <td>0.091250</td>\n",
              "      <td>0.016750</td>\n",
              "    </tr>\n",
              "    <tr>\n",
              "      <th>3</th>\n",
              "      <td>2009-01-01 09:00:00</td>\n",
              "      <td>0.135750</td>\n",
              "      <td>0.091500</td>\n",
              "      <td>0.016250</td>\n",
              "    </tr>\n",
              "    <tr>\n",
              "      <th>4</th>\n",
              "      <td>2009-01-01 12:00:00</td>\n",
              "      <td>0.140917</td>\n",
              "      <td>0.096167</td>\n",
              "      <td>0.017000</td>\n",
              "    </tr>\n",
              "  </tbody>\n",
              "</table>\n",
              "</div>"
            ],
            "text/plain": [
              "                  Time   L06_347  LS06_347  LS06_348\n",
              "0  2009-01-01 00:00:00  0.137417  0.097500  0.016833\n",
              "1  2009-01-01 03:00:00  0.131250  0.088833  0.016417\n",
              "2  2009-01-01 06:00:00  0.113500  0.091250  0.016750\n",
              "3  2009-01-01 09:00:00  0.135750  0.091500  0.016250\n",
              "4  2009-01-01 12:00:00  0.140917  0.096167  0.017000"
            ]
          },
          "metadata": {},
          "execution_count": 23
        }
      ]
    },
    {
      "cell_type": "code",
      "metadata": {
        "colab": {
          "base_uri": "https://localhost:8080/"
        },
        "id": "vxaAaEG2ZVs6",
        "outputId": "661c62dc-f645-42ae-f1ba-d6d0486286ed"
      },
      "source": [
        "data.info()"
      ],
      "execution_count": null,
      "outputs": [
        {
          "output_type": "stream",
          "text": [
            "<class 'pandas.core.frame.DataFrame'>\n",
            "RangeIndex: 11697 entries, 0 to 11696\n",
            "Data columns (total 4 columns):\n",
            " #   Column    Non-Null Count  Dtype  \n",
            "---  ------    --------------  -----  \n",
            " 0   Time      11697 non-null  object \n",
            " 1   L06_347   11696 non-null  float64\n",
            " 2   LS06_347  11425 non-null  float64\n",
            " 3   LS06_348  10689 non-null  float64\n",
            "dtypes: float64(3), object(1)\n",
            "memory usage: 365.7+ KB\n"
          ],
          "name": "stdout"
        }
      ]
    },
    {
      "cell_type": "markdown",
      "metadata": {
        "id": "wtxM-OQh5I-J"
      },
      "source": [
        "We already know how to parse a date column with Pandas:"
      ]
    },
    {
      "cell_type": "code",
      "metadata": {
        "collapsed": true,
        "run_control": {
          "frozen": false,
          "read_only": false
        },
        "colab": {
          "base_uri": "https://localhost:8080/"
        },
        "id": "-Nx8Z3-z5I-J",
        "outputId": "fc7a9ddf-2f39-4041-f597-c31e24d228ce"
      },
      "source": [
        "data['Time'] = pd.to_datetime(data['Time'])\n",
        "data.info()"
      ],
      "execution_count": null,
      "outputs": [
        {
          "output_type": "stream",
          "text": [
            "<class 'pandas.core.frame.DataFrame'>\n",
            "RangeIndex: 11697 entries, 0 to 11696\n",
            "Data columns (total 4 columns):\n",
            " #   Column    Non-Null Count  Dtype         \n",
            "---  ------    --------------  -----         \n",
            " 0   Time      11697 non-null  datetime64[ns]\n",
            " 1   L06_347   11696 non-null  float64       \n",
            " 2   LS06_347  11425 non-null  float64       \n",
            " 3   LS06_348  10689 non-null  float64       \n",
            "dtypes: datetime64[ns](1), float64(3)\n",
            "memory usage: 365.7 KB\n"
          ],
          "name": "stdout"
        }
      ]
    },
    {
      "cell_type": "markdown",
      "metadata": {
        "id": "kN0HX5zM5I-K"
      },
      "source": [
        "With `set_index('datetime')`, we set the column with datetime values as the index, which can be done by both `Series` and `DataFrame`."
      ]
    },
    {
      "cell_type": "code",
      "metadata": {
        "collapsed": true,
        "run_control": {
          "frozen": false,
          "read_only": false
        },
        "id": "tmbvCIhd5I-K"
      },
      "source": [
        "data = data.set_index(\"Time\")"
      ],
      "execution_count": null,
      "outputs": []
    },
    {
      "cell_type": "code",
      "metadata": {
        "collapsed": true,
        "run_control": {
          "frozen": false,
          "read_only": false
        },
        "colab": {
          "base_uri": "https://localhost:8080/",
          "height": 389
        },
        "id": "qzT0Pd9g5I-K",
        "outputId": "3ed593fc-0e61-4ef7-9e50-b29571bbe20d"
      },
      "source": [
        "data"
      ],
      "execution_count": null,
      "outputs": [
        {
          "output_type": "execute_result",
          "data": {
            "text/html": [
              "<div>\n",
              "<style scoped>\n",
              "    .dataframe tbody tr th:only-of-type {\n",
              "        vertical-align: middle;\n",
              "    }\n",
              "\n",
              "    .dataframe tbody tr th {\n",
              "        vertical-align: top;\n",
              "    }\n",
              "\n",
              "    .dataframe thead th {\n",
              "        text-align: right;\n",
              "    }\n",
              "</style>\n",
              "<table border=\"1\" class=\"dataframe\">\n",
              "  <thead>\n",
              "    <tr style=\"text-align: right;\">\n",
              "      <th></th>\n",
              "      <th>L06_347</th>\n",
              "      <th>LS06_347</th>\n",
              "      <th>LS06_348</th>\n",
              "    </tr>\n",
              "    <tr>\n",
              "      <th>Time</th>\n",
              "      <th></th>\n",
              "      <th></th>\n",
              "      <th></th>\n",
              "    </tr>\n",
              "  </thead>\n",
              "  <tbody>\n",
              "    <tr>\n",
              "      <th>2009-01-01 00:00:00</th>\n",
              "      <td>0.137417</td>\n",
              "      <td>0.097500</td>\n",
              "      <td>0.016833</td>\n",
              "    </tr>\n",
              "    <tr>\n",
              "      <th>2009-01-01 03:00:00</th>\n",
              "      <td>0.131250</td>\n",
              "      <td>0.088833</td>\n",
              "      <td>0.016417</td>\n",
              "    </tr>\n",
              "    <tr>\n",
              "      <th>2009-01-01 06:00:00</th>\n",
              "      <td>0.113500</td>\n",
              "      <td>0.091250</td>\n",
              "      <td>0.016750</td>\n",
              "    </tr>\n",
              "    <tr>\n",
              "      <th>2009-01-01 09:00:00</th>\n",
              "      <td>0.135750</td>\n",
              "      <td>0.091500</td>\n",
              "      <td>0.016250</td>\n",
              "    </tr>\n",
              "    <tr>\n",
              "      <th>...</th>\n",
              "      <td>...</td>\n",
              "      <td>...</td>\n",
              "      <td>...</td>\n",
              "    </tr>\n",
              "    <tr>\n",
              "      <th>2013-01-01 15:00:00</th>\n",
              "      <td>1.420000</td>\n",
              "      <td>1.420000</td>\n",
              "      <td>0.096333</td>\n",
              "    </tr>\n",
              "    <tr>\n",
              "      <th>2013-01-01 18:00:00</th>\n",
              "      <td>1.178583</td>\n",
              "      <td>1.178583</td>\n",
              "      <td>0.083083</td>\n",
              "    </tr>\n",
              "    <tr>\n",
              "      <th>2013-01-01 21:00:00</th>\n",
              "      <td>0.898250</td>\n",
              "      <td>0.898250</td>\n",
              "      <td>0.077167</td>\n",
              "    </tr>\n",
              "    <tr>\n",
              "      <th>2013-01-02 00:00:00</th>\n",
              "      <td>0.860000</td>\n",
              "      <td>0.860000</td>\n",
              "      <td>0.075000</td>\n",
              "    </tr>\n",
              "  </tbody>\n",
              "</table>\n",
              "<p>11697 rows × 3 columns</p>\n",
              "</div>"
            ],
            "text/plain": [
              "                      L06_347  LS06_347  LS06_348\n",
              "Time                                             \n",
              "2009-01-01 00:00:00  0.137417  0.097500  0.016833\n",
              "2009-01-01 03:00:00  0.131250  0.088833  0.016417\n",
              "2009-01-01 06:00:00  0.113500  0.091250  0.016750\n",
              "2009-01-01 09:00:00  0.135750  0.091500  0.016250\n",
              "...                       ...       ...       ...\n",
              "2013-01-01 15:00:00  1.420000  1.420000  0.096333\n",
              "2013-01-01 18:00:00  1.178583  1.178583  0.083083\n",
              "2013-01-01 21:00:00  0.898250  0.898250  0.077167\n",
              "2013-01-02 00:00:00  0.860000  0.860000  0.075000\n",
              "\n",
              "[11697 rows x 3 columns]"
            ]
          },
          "metadata": {},
          "execution_count": 27
        }
      ]
    },
    {
      "cell_type": "markdown",
      "metadata": {
        "id": "BpTsH96i5I-K"
      },
      "source": [
        "The steps above are provided as built-in functionality of `read_csv`:"
      ]
    },
    {
      "cell_type": "code",
      "metadata": {
        "collapsed": true,
        "run_control": {
          "frozen": false,
          "read_only": false
        },
        "id": "vkiurnkK5I-K"
      },
      "source": [
        "data = pd.read_csv(\"https://raw.githubusercontent.com/jorisvandenbossche/pandas-tutorial/master/data/flowdata.csv\", index_col=0, parse_dates=True)"
      ],
      "execution_count": null,
      "outputs": []
    },
    {
      "cell_type": "markdown",
      "metadata": {
        "id": "pL1tiK_F5I-K"
      },
      "source": [
        "<div class=\"alert alert-info\">\n",
        "<b>REMEMBER</b>: <br><br>\n",
        "\n",
        "`pd.read_csv` provides a lot of built-in functionality to support this kind of transactions when reading in a file! Check the help of the read_csv function...\n",
        "</div>"
      ]
    },
    {
      "cell_type": "markdown",
      "metadata": {
        "id": "aPHes4Wd5I-K"
      },
      "source": [
        "## The DatetimeIndex"
      ]
    },
    {
      "cell_type": "markdown",
      "metadata": {
        "id": "lcFkP2-f5I-K"
      },
      "source": [
        "When we ensure the DataFrame has a `DatetimeIndex`, time-series related functionality becomes available:"
      ]
    },
    {
      "cell_type": "code",
      "metadata": {
        "collapsed": true,
        "run_control": {
          "frozen": false,
          "read_only": false
        },
        "scrolled": true,
        "colab": {
          "base_uri": "https://localhost:8080/"
        },
        "id": "TYO5RHcq5I-K",
        "outputId": "365ae6fc-fc5f-405f-b62d-0a0ac7c63c67"
      },
      "source": [
        "data.index"
      ],
      "execution_count": null,
      "outputs": [
        {
          "output_type": "execute_result",
          "data": {
            "text/plain": [
              "DatetimeIndex(['2009-01-01 00:00:00', '2009-01-01 03:00:00',\n",
              "               '2009-01-01 06:00:00', '2009-01-01 09:00:00',\n",
              "               '2009-01-01 12:00:00', '2009-01-01 15:00:00',\n",
              "               '2009-01-01 18:00:00', '2009-01-01 21:00:00',\n",
              "               '2009-01-02 00:00:00', '2009-01-02 03:00:00',\n",
              "               ...\n",
              "               '2012-12-31 21:00:00', '2013-01-01 00:00:00',\n",
              "               '2013-01-01 03:00:00', '2013-01-01 06:00:00',\n",
              "               '2013-01-01 09:00:00', '2013-01-01 12:00:00',\n",
              "               '2013-01-01 15:00:00', '2013-01-01 18:00:00',\n",
              "               '2013-01-01 21:00:00', '2013-01-02 00:00:00'],\n",
              "              dtype='datetime64[ns]', name='Time', length=11697, freq=None)"
            ]
          },
          "metadata": {},
          "execution_count": 29
        }
      ]
    },
    {
      "cell_type": "markdown",
      "metadata": {
        "id": "fVzIeWLP5I-K"
      },
      "source": [
        "Similar to a Series with datetime data, there are some attributes of the timestamp values available:"
      ]
    },
    {
      "cell_type": "code",
      "metadata": {
        "collapsed": true,
        "run_control": {
          "frozen": false,
          "read_only": false
        },
        "colab": {
          "base_uri": "https://localhost:8080/"
        },
        "id": "0Vk1Uxk95I-L",
        "outputId": "3bea1032-e34f-4e08-f028-4962038a7b5c"
      },
      "source": [
        "data.index.day"
      ],
      "execution_count": null,
      "outputs": [
        {
          "output_type": "execute_result",
          "data": {
            "text/plain": [
              "Int64Index([ 1,  1,  1,  1,  1,  1,  1,  1,  2,  2,\n",
              "            ...\n",
              "            31,  1,  1,  1,  1,  1,  1,  1,  1,  2],\n",
              "           dtype='int64', name='Time', length=11697)"
            ]
          },
          "metadata": {},
          "execution_count": 30
        }
      ]
    },
    {
      "cell_type": "code",
      "metadata": {
        "collapsed": true,
        "run_control": {
          "frozen": false,
          "read_only": false
        },
        "colab": {
          "base_uri": "https://localhost:8080/"
        },
        "id": "ZUE9ZZe45I-L",
        "outputId": "185a9d12-724f-40f7-9b43-6bcf7e6a777f"
      },
      "source": [
        "data.index.dayofyear"
      ],
      "execution_count": null,
      "outputs": [
        {
          "output_type": "execute_result",
          "data": {
            "text/plain": [
              "Int64Index([  1,   1,   1,   1,   1,   1,   1,   1,   2,   2,\n",
              "            ...\n",
              "            366,   1,   1,   1,   1,   1,   1,   1,   1,   2],\n",
              "           dtype='int64', name='Time', length=11697)"
            ]
          },
          "metadata": {},
          "execution_count": 31
        }
      ]
    },
    {
      "cell_type": "code",
      "metadata": {
        "collapsed": true,
        "run_control": {
          "frozen": false,
          "read_only": false
        },
        "colab": {
          "base_uri": "https://localhost:8080/"
        },
        "id": "9uiOmbvV5I-L",
        "outputId": "43daa852-2f00-4c18-a48e-1d9df7d48bea"
      },
      "source": [
        "data.index.year"
      ],
      "execution_count": null,
      "outputs": [
        {
          "output_type": "execute_result",
          "data": {
            "text/plain": [
              "Int64Index([2009, 2009, 2009, 2009, 2009, 2009, 2009, 2009, 2009, 2009,\n",
              "            ...\n",
              "            2012, 2013, 2013, 2013, 2013, 2013, 2013, 2013, 2013, 2013],\n",
              "           dtype='int64', name='Time', length=11697)"
            ]
          },
          "metadata": {},
          "execution_count": 32
        }
      ]
    },
    {
      "cell_type": "markdown",
      "metadata": {
        "id": "20lFr70q5I-L"
      },
      "source": [
        "The `plot` method will also adapt it's labels (when you zoom in, you can see the different levels of detail of the datetime labels):\n"
      ]
    },
    {
      "cell_type": "code",
      "metadata": {
        "collapsed": true,
        "run_control": {
          "frozen": false,
          "read_only": false
        },
        "colab": {
          "base_uri": "https://localhost:8080/",
          "height": 296
        },
        "id": "4_woFE2_5I-L",
        "outputId": "8e4a82ce-d444-48d2-b69d-586abb6828a6"
      },
      "source": [
        "data.plot()"
      ],
      "execution_count": null,
      "outputs": [
        {
          "output_type": "execute_result",
          "data": {
            "text/plain": [
              "<matplotlib.axes._subplots.AxesSubplot at 0x7f30d25c6910>"
            ]
          },
          "metadata": {},
          "execution_count": 33
        },
        {
          "output_type": "display_data",
          "data": {
            "image/png": "[encoded data removed]",
            "text/plain": [
              "<Figure size 432x288 with 1 Axes>"
            ]
          },
          "metadata": {
            "needs_background": "light"
          }
        }
      ]
    },
    {
      "cell_type": "markdown",
      "metadata": {
        "id": "aupx4UD25I-L"
      },
      "source": [
        "We have to much data to sensibly plot on one figure. Let's see how we can easily select part of the data or aggregate the data to other time resolutions in the next sections."
      ]
    },
    {
      "cell_type": "markdown",
      "metadata": {
        "id": "1P3KDKe35I-M"
      },
      "source": [
        "## Selecting data from a time series"
      ]
    },
    {
      "cell_type": "markdown",
      "metadata": {
        "id": "9LIQmdXg5I-M"
      },
      "source": [
        "We can use label based indexing on a timeseries as expected:"
      ]
    },
    {
      "cell_type": "code",
      "metadata": {
        "collapsed": true,
        "run_control": {
          "frozen": false,
          "read_only": false
        },
        "colab": {
          "base_uri": "https://localhost:8080/",
          "height": 204
        },
        "id": "1iKPgk4k5I-M",
        "outputId": "d102a7d4-bb55-4a93-f5ff-520a0c112bca"
      },
      "source": [
        "data[pd.Timestamp(\"2012-01-01 09:00\"):pd.Timestamp(\"2012-01-01 19:00\")]"
      ],
      "execution_count": null,
      "outputs": [
        {
          "output_type": "execute_result",
          "data": {
            "text/html": [
              "<div>\n",
              "<style scoped>\n",
              "    .dataframe tbody tr th:only-of-type {\n",
              "        vertical-align: middle;\n",
              "    }\n",
              "\n",
              "    .dataframe tbody tr th {\n",
              "        vertical-align: top;\n",
              "    }\n",
              "\n",
              "    .dataframe thead th {\n",
              "        text-align: right;\n",
              "    }\n",
              "</style>\n",
              "<table border=\"1\" class=\"dataframe\">\n",
              "  <thead>\n",
              "    <tr style=\"text-align: right;\">\n",
              "      <th></th>\n",
              "      <th>L06_347</th>\n",
              "      <th>LS06_347</th>\n",
              "      <th>LS06_348</th>\n",
              "    </tr>\n",
              "    <tr>\n",
              "      <th>Time</th>\n",
              "      <th></th>\n",
              "      <th></th>\n",
              "      <th></th>\n",
              "    </tr>\n",
              "  </thead>\n",
              "  <tbody>\n",
              "    <tr>\n",
              "      <th>2012-01-01 09:00:00</th>\n",
              "      <td>0.330750</td>\n",
              "      <td>0.293583</td>\n",
              "      <td>0.029750</td>\n",
              "    </tr>\n",
              "    <tr>\n",
              "      <th>2012-01-01 12:00:00</th>\n",
              "      <td>0.295000</td>\n",
              "      <td>0.285167</td>\n",
              "      <td>0.031750</td>\n",
              "    </tr>\n",
              "    <tr>\n",
              "      <th>2012-01-01 15:00:00</th>\n",
              "      <td>0.301417</td>\n",
              "      <td>0.287750</td>\n",
              "      <td>0.031417</td>\n",
              "    </tr>\n",
              "    <tr>\n",
              "      <th>2012-01-01 18:00:00</th>\n",
              "      <td>0.322083</td>\n",
              "      <td>0.304167</td>\n",
              "      <td>0.038083</td>\n",
              "    </tr>\n",
              "  </tbody>\n",
              "</table>\n",
              "</div>"
            ],
            "text/plain": [
              "                      L06_347  LS06_347  LS06_348\n",
              "Time                                             \n",
              "2012-01-01 09:00:00  0.330750  0.293583  0.029750\n",
              "2012-01-01 12:00:00  0.295000  0.285167  0.031750\n",
              "2012-01-01 15:00:00  0.301417  0.287750  0.031417\n",
              "2012-01-01 18:00:00  0.322083  0.304167  0.038083"
            ]
          },
          "metadata": {},
          "execution_count": 34
        }
      ]
    },
    {
      "cell_type": "markdown",
      "metadata": {
        "id": "PNn3ycma5I-M"
      },
      "source": [
        "But, for convenience, indexing a time series also works with strings:"
      ]
    },
    {
      "cell_type": "code",
      "metadata": {
        "collapsed": true,
        "run_control": {
          "frozen": false,
          "read_only": false
        },
        "colab": {
          "base_uri": "https://localhost:8080/",
          "height": 204
        },
        "id": "PZc-6NNi5I-M",
        "outputId": "3d97e597-23f3-4adc-c6d5-c892052f1c64"
      },
      "source": [
        "data[\"2012-01-01 09:00\":\"2012-01-01 19:00\"]"
      ],
      "execution_count": null,
      "outputs": [
        {
          "output_type": "execute_result",
          "data": {
            "text/html": [
              "<div>\n",
              "<style scoped>\n",
              "    .dataframe tbody tr th:only-of-type {\n",
              "        vertical-align: middle;\n",
              "    }\n",
              "\n",
              "    .dataframe tbody tr th {\n",
              "        vertical-align: top;\n",
              "    }\n",
              "\n",
              "    .dataframe thead th {\n",
              "        text-align: right;\n",
              "    }\n",
              "</style>\n",
              "<table border=\"1\" class=\"dataframe\">\n",
              "  <thead>\n",
              "    <tr style=\"text-align: right;\">\n",
              "      <th></th>\n",
              "      <th>L06_347</th>\n",
              "      <th>LS06_347</th>\n",
              "      <th>LS06_348</th>\n",
              "    </tr>\n",
              "    <tr>\n",
              "      <th>Time</th>\n",
              "      <th></th>\n",
              "      <th></th>\n",
              "      <th></th>\n",
              "    </tr>\n",
              "  </thead>\n",
              "  <tbody>\n",
              "    <tr>\n",
              "      <th>2012-01-01 09:00:00</th>\n",
              "      <td>0.330750</td>\n",
              "      <td>0.293583</td>\n",
              "      <td>0.029750</td>\n",
              "    </tr>\n",
              "    <tr>\n",
              "      <th>2012-01-01 12:00:00</th>\n",
              "      <td>0.295000</td>\n",
              "      <td>0.285167</td>\n",
              "      <td>0.031750</td>\n",
              "    </tr>\n",
              "    <tr>\n",
              "      <th>2012-01-01 15:00:00</th>\n",
              "      <td>0.301417</td>\n",
              "      <td>0.287750</td>\n",
              "      <td>0.031417</td>\n",
              "    </tr>\n",
              "    <tr>\n",
              "      <th>2012-01-01 18:00:00</th>\n",
              "      <td>0.322083</td>\n",
              "      <td>0.304167</td>\n",
              "      <td>0.038083</td>\n",
              "    </tr>\n",
              "  </tbody>\n",
              "</table>\n",
              "</div>"
            ],
            "text/plain": [
              "                      L06_347  LS06_347  LS06_348\n",
              "Time                                             \n",
              "2012-01-01 09:00:00  0.330750  0.293583  0.029750\n",
              "2012-01-01 12:00:00  0.295000  0.285167  0.031750\n",
              "2012-01-01 15:00:00  0.301417  0.287750  0.031417\n",
              "2012-01-01 18:00:00  0.322083  0.304167  0.038083"
            ]
          },
          "metadata": {},
          "execution_count": 35
        }
      ]
    },
    {
      "cell_type": "markdown",
      "metadata": {
        "id": "TuKivlEl5I-M"
      },
      "source": [
        "A nice feature is **\"partial string\" indexing**, where we can do implicit slicing by providing a partial datetime string.\n",
        "\n",
        "E.g. all data of 2013:"
      ]
    },
    {
      "cell_type": "code",
      "metadata": {
        "collapsed": true,
        "run_control": {
          "frozen": false,
          "read_only": false
        },
        "scrolled": true,
        "colab": {
          "base_uri": "https://localhost:8080/",
          "height": 389
        },
        "id": "Cl4TxWeG5I-M",
        "outputId": "4852b33a-2379-49d0-edfd-24e9374d9698"
      },
      "source": [
        "data['2013']"
      ],
      "execution_count": null,
      "outputs": [
        {
          "output_type": "execute_result",
          "data": {
            "text/html": [
              "<div>\n",
              "<style scoped>\n",
              "    .dataframe tbody tr th:only-of-type {\n",
              "        vertical-align: middle;\n",
              "    }\n",
              "\n",
              "    .dataframe tbody tr th {\n",
              "        vertical-align: top;\n",
              "    }\n",
              "\n",
              "    .dataframe thead th {\n",
              "        text-align: right;\n",
              "    }\n",
              "</style>\n",
              "<table border=\"1\" class=\"dataframe\">\n",
              "  <thead>\n",
              "    <tr style=\"text-align: right;\">\n",
              "      <th></th>\n",
              "      <th>L06_347</th>\n",
              "      <th>LS06_347</th>\n",
              "      <th>LS06_348</th>\n",
              "    </tr>\n",
              "    <tr>\n",
              "      <th>Time</th>\n",
              "      <th></th>\n",
              "      <th></th>\n",
              "      <th></th>\n",
              "    </tr>\n",
              "  </thead>\n",
              "  <tbody>\n",
              "    <tr>\n",
              "      <th>2013-01-01 00:00:00</th>\n",
              "      <td>1.688333</td>\n",
              "      <td>1.688333</td>\n",
              "      <td>0.207333</td>\n",
              "    </tr>\n",
              "    <tr>\n",
              "      <th>2013-01-01 03:00:00</th>\n",
              "      <td>2.693333</td>\n",
              "      <td>2.693333</td>\n",
              "      <td>0.201500</td>\n",
              "    </tr>\n",
              "    <tr>\n",
              "      <th>2013-01-01 06:00:00</th>\n",
              "      <td>2.220833</td>\n",
              "      <td>2.220833</td>\n",
              "      <td>0.166917</td>\n",
              "    </tr>\n",
              "    <tr>\n",
              "      <th>2013-01-01 09:00:00</th>\n",
              "      <td>2.055000</td>\n",
              "      <td>2.055000</td>\n",
              "      <td>0.175667</td>\n",
              "    </tr>\n",
              "    <tr>\n",
              "      <th>...</th>\n",
              "      <td>...</td>\n",
              "      <td>...</td>\n",
              "      <td>...</td>\n",
              "    </tr>\n",
              "    <tr>\n",
              "      <th>2013-01-01 15:00:00</th>\n",
              "      <td>1.420000</td>\n",
              "      <td>1.420000</td>\n",
              "      <td>0.096333</td>\n",
              "    </tr>\n",
              "    <tr>\n",
              "      <th>2013-01-01 18:00:00</th>\n",
              "      <td>1.178583</td>\n",
              "      <td>1.178583</td>\n",
              "      <td>0.083083</td>\n",
              "    </tr>\n",
              "    <tr>\n",
              "      <th>2013-01-01 21:00:00</th>\n",
              "      <td>0.898250</td>\n",
              "      <td>0.898250</td>\n",
              "      <td>0.077167</td>\n",
              "    </tr>\n",
              "    <tr>\n",
              "      <th>2013-01-02 00:00:00</th>\n",
              "      <td>0.860000</td>\n",
              "      <td>0.860000</td>\n",
              "      <td>0.075000</td>\n",
              "    </tr>\n",
              "  </tbody>\n",
              "</table>\n",
              "<p>9 rows × 3 columns</p>\n",
              "</div>"
            ],
            "text/plain": [
              "                      L06_347  LS06_347  LS06_348\n",
              "Time                                             \n",
              "2013-01-01 00:00:00  1.688333  1.688333  0.207333\n",
              "2013-01-01 03:00:00  2.693333  2.693333  0.201500\n",
              "2013-01-01 06:00:00  2.220833  2.220833  0.166917\n",
              "2013-01-01 09:00:00  2.055000  2.055000  0.175667\n",
              "...                       ...       ...       ...\n",
              "2013-01-01 15:00:00  1.420000  1.420000  0.096333\n",
              "2013-01-01 18:00:00  1.178583  1.178583  0.083083\n",
              "2013-01-01 21:00:00  0.898250  0.898250  0.077167\n",
              "2013-01-02 00:00:00  0.860000  0.860000  0.075000\n",
              "\n",
              "[9 rows x 3 columns]"
            ]
          },
          "metadata": {},
          "execution_count": 36
        }
      ]
    },
    {
      "cell_type": "markdown",
      "metadata": {
        "id": "nmfkzJRQ5I-M"
      },
      "source": [
        "Normally you would expect this to access a column named '2013', but as for a DatetimeIndex, pandas also tries to interprete it as a datetime slice."
      ]
    },
    {
      "cell_type": "markdown",
      "metadata": {
        "id": "2mxWWgq95I-M"
      },
      "source": [
        "Or all data of January up to March 2012:"
      ]
    },
    {
      "cell_type": "code",
      "metadata": {
        "collapsed": true,
        "run_control": {
          "frozen": false,
          "read_only": false
        },
        "colab": {
          "base_uri": "https://localhost:8080/",
          "height": 332
        },
        "id": "hEgcF8k_5I-N",
        "outputId": "e93e40fa-9104-41df-a9d1-319a4e1794f6"
      },
      "source": [
        "data['2012-01':'2012-03']['L06_347'].plot()"
      ],
      "execution_count": null,
      "outputs": [
        {
          "output_type": "execute_result",
          "data": {
            "text/plain": [
              "<matplotlib.axes._subplots.AxesSubplot at 0x7f30d255aa10>"
            ]
          },
          "metadata": {},
          "execution_count": 37
        },
        {
          "output_type": "display_data",
          "data": {
            "image/png": "[encoded data removed]",
            "text/plain": [
              "<Figure size 432x288 with 1 Axes>"
            ]
          },
          "metadata": {
            "needs_background": "light"
          }
        }
      ]
    },
    {
      "cell_type": "markdown",
      "metadata": {
        "id": "l3ma25vB5I-N"
      },
      "source": [
        "<div class=\"alert alert-success\">\n",
        "\n",
        "<b>EXERCISE</b>:\n",
        "\n",
        " <ul>\n",
        "  <li>select all data starting from 2012</li>\n",
        "</ul>\n",
        "</div>"
      ]
    },
    {
      "cell_type": "code",
      "metadata": {
        "clear_cell": true,
        "collapsed": true,
        "run_control": {
          "frozen": false,
          "read_only": false
        },
        "colab": {
          "base_uri": "https://localhost:8080/",
          "height": 389
        },
        "id": "Zt1LeCAb5I-N",
        "outputId": "7947e62c-af44-49df-eb74-44915b035d41"
      },
      "source": [
        "data['2012':]"
      ],
      "execution_count": null,
      "outputs": [
        {
          "output_type": "execute_result",
          "data": {
            "text/html": [
              "<div>\n",
              "<style scoped>\n",
              "    .dataframe tbody tr th:only-of-type {\n",
              "        vertical-align: middle;\n",
              "    }\n",
              "\n",
              "    .dataframe tbody tr th {\n",
              "        vertical-align: top;\n",
              "    }\n",
              "\n",
              "    .dataframe thead th {\n",
              "        text-align: right;\n",
              "    }\n",
              "</style>\n",
              "<table border=\"1\" class=\"dataframe\">\n",
              "  <thead>\n",
              "    <tr style=\"text-align: right;\">\n",
              "      <th></th>\n",
              "      <th>L06_347</th>\n",
              "      <th>LS06_347</th>\n",
              "      <th>LS06_348</th>\n",
              "    </tr>\n",
              "    <tr>\n",
              "      <th>Time</th>\n",
              "      <th></th>\n",
              "      <th></th>\n",
              "      <th></th>\n",
              "    </tr>\n",
              "  </thead>\n",
              "  <tbody>\n",
              "    <tr>\n",
              "      <th>2012-01-01 00:00:00</th>\n",
              "      <td>0.307167</td>\n",
              "      <td>0.273917</td>\n",
              "      <td>0.028000</td>\n",
              "    </tr>\n",
              "    <tr>\n",
              "      <th>2012-01-01 03:00:00</th>\n",
              "      <td>0.302917</td>\n",
              "      <td>0.270833</td>\n",
              "      <td>0.030583</td>\n",
              "    </tr>\n",
              "    <tr>\n",
              "      <th>2012-01-01 06:00:00</th>\n",
              "      <td>0.331500</td>\n",
              "      <td>0.284750</td>\n",
              "      <td>0.030917</td>\n",
              "    </tr>\n",
              "    <tr>\n",
              "      <th>2012-01-01 09:00:00</th>\n",
              "      <td>0.330750</td>\n",
              "      <td>0.293583</td>\n",
              "      <td>0.029750</td>\n",
              "    </tr>\n",
              "    <tr>\n",
              "      <th>...</th>\n",
              "      <td>...</td>\n",
              "      <td>...</td>\n",
              "      <td>...</td>\n",
              "    </tr>\n",
              "    <tr>\n",
              "      <th>2013-01-01 15:00:00</th>\n",
              "      <td>1.420000</td>\n",
              "      <td>1.420000</td>\n",
              "      <td>0.096333</td>\n",
              "    </tr>\n",
              "    <tr>\n",
              "      <th>2013-01-01 18:00:00</th>\n",
              "      <td>1.178583</td>\n",
              "      <td>1.178583</td>\n",
              "      <td>0.083083</td>\n",
              "    </tr>\n",
              "    <tr>\n",
              "      <th>2013-01-01 21:00:00</th>\n",
              "      <td>0.898250</td>\n",
              "      <td>0.898250</td>\n",
              "      <td>0.077167</td>\n",
              "    </tr>\n",
              "    <tr>\n",
              "      <th>2013-01-02 00:00:00</th>\n",
              "      <td>0.860000</td>\n",
              "      <td>0.860000</td>\n",
              "      <td>0.075000</td>\n",
              "    </tr>\n",
              "  </tbody>\n",
              "</table>\n",
              "<p>2937 rows × 3 columns</p>\n",
              "</div>"
            ],
            "text/plain": [
              "                      L06_347  LS06_347  LS06_348\n",
              "Time                                             \n",
              "2012-01-01 00:00:00  0.307167  0.273917  0.028000\n",
              "2012-01-01 03:00:00  0.302917  0.270833  0.030583\n",
              "2012-01-01 06:00:00  0.331500  0.284750  0.030917\n",
              "2012-01-01 09:00:00  0.330750  0.293583  0.029750\n",
              "...                       ...       ...       ...\n",
              "2013-01-01 15:00:00  1.420000  1.420000  0.096333\n",
              "2013-01-01 18:00:00  1.178583  1.178583  0.083083\n",
              "2013-01-01 21:00:00  0.898250  0.898250  0.077167\n",
              "2013-01-02 00:00:00  0.860000  0.860000  0.075000\n",
              "\n",
              "[2937 rows x 3 columns]"
            ]
          },
          "metadata": {},
          "execution_count": 38
        }
      ]
    },
    {
      "cell_type": "markdown",
      "metadata": {
        "id": "5GdCr3f-5I-N"
      },
      "source": [
        "<div class=\"alert alert-success\">\n",
        "\n",
        "<b>EXERCISE</b>:\n",
        "\n",
        " <ul>\n",
        "  <li>select all data in January for all different years</li>\n",
        "</ul>\n",
        "</div>"
      ]
    },
    {
      "cell_type": "code",
      "metadata": {
        "clear_cell": true,
        "collapsed": true,
        "run_control": {
          "frozen": false,
          "read_only": false
        },
        "colab": {
          "base_uri": "https://localhost:8080/",
          "height": 389
        },
        "id": "hizVHgZf5I-N",
        "outputId": "604ef36e-c0e3-479e-b7c2-7da89c51b3fa"
      },
      "source": [
        "data.loc[data.index.month == 1]"
      ],
      "execution_count": null,
      "outputs": [
        {
          "output_type": "execute_result",
          "data": {
            "text/html": [
              "<div>\n",
              "<style scoped>\n",
              "    .dataframe tbody tr th:only-of-type {\n",
              "        vertical-align: middle;\n",
              "    }\n",
              "\n",
              "    .dataframe tbody tr th {\n",
              "        vertical-align: top;\n",
              "    }\n",
              "\n",
              "    .dataframe thead th {\n",
              "        text-align: right;\n",
              "    }\n",
              "</style>\n",
              "<table border=\"1\" class=\"dataframe\">\n",
              "  <thead>\n",
              "    <tr style=\"text-align: right;\">\n",
              "      <th></th>\n",
              "      <th>L06_347</th>\n",
              "      <th>LS06_347</th>\n",
              "      <th>LS06_348</th>\n",
              "    </tr>\n",
              "    <tr>\n",
              "      <th>Time</th>\n",
              "      <th></th>\n",
              "      <th></th>\n",
              "      <th></th>\n",
              "    </tr>\n",
              "  </thead>\n",
              "  <tbody>\n",
              "    <tr>\n",
              "      <th>2009-01-01 00:00:00</th>\n",
              "      <td>0.137417</td>\n",
              "      <td>0.097500</td>\n",
              "      <td>0.016833</td>\n",
              "    </tr>\n",
              "    <tr>\n",
              "      <th>2009-01-01 03:00:00</th>\n",
              "      <td>0.131250</td>\n",
              "      <td>0.088833</td>\n",
              "      <td>0.016417</td>\n",
              "    </tr>\n",
              "    <tr>\n",
              "      <th>2009-01-01 06:00:00</th>\n",
              "      <td>0.113500</td>\n",
              "      <td>0.091250</td>\n",
              "      <td>0.016750</td>\n",
              "    </tr>\n",
              "    <tr>\n",
              "      <th>2009-01-01 09:00:00</th>\n",
              "      <td>0.135750</td>\n",
              "      <td>0.091500</td>\n",
              "      <td>0.016250</td>\n",
              "    </tr>\n",
              "    <tr>\n",
              "      <th>...</th>\n",
              "      <td>...</td>\n",
              "      <td>...</td>\n",
              "      <td>...</td>\n",
              "    </tr>\n",
              "    <tr>\n",
              "      <th>2013-01-01 15:00:00</th>\n",
              "      <td>1.420000</td>\n",
              "      <td>1.420000</td>\n",
              "      <td>0.096333</td>\n",
              "    </tr>\n",
              "    <tr>\n",
              "      <th>2013-01-01 18:00:00</th>\n",
              "      <td>1.178583</td>\n",
              "      <td>1.178583</td>\n",
              "      <td>0.083083</td>\n",
              "    </tr>\n",
              "    <tr>\n",
              "      <th>2013-01-01 21:00:00</th>\n",
              "      <td>0.898250</td>\n",
              "      <td>0.898250</td>\n",
              "      <td>0.077167</td>\n",
              "    </tr>\n",
              "    <tr>\n",
              "      <th>2013-01-02 00:00:00</th>\n",
              "      <td>0.860000</td>\n",
              "      <td>0.860000</td>\n",
              "      <td>0.075000</td>\n",
              "    </tr>\n",
              "  </tbody>\n",
              "</table>\n",
              "<p>1001 rows × 3 columns</p>\n",
              "</div>"
            ],
            "text/plain": [
              "                      L06_347  LS06_347  LS06_348\n",
              "Time                                             \n",
              "2009-01-01 00:00:00  0.137417  0.097500  0.016833\n",
              "2009-01-01 03:00:00  0.131250  0.088833  0.016417\n",
              "2009-01-01 06:00:00  0.113500  0.091250  0.016750\n",
              "2009-01-01 09:00:00  0.135750  0.091500  0.016250\n",
              "...                       ...       ...       ...\n",
              "2013-01-01 15:00:00  1.420000  1.420000  0.096333\n",
              "2013-01-01 18:00:00  1.178583  1.178583  0.083083\n",
              "2013-01-01 21:00:00  0.898250  0.898250  0.077167\n",
              "2013-01-02 00:00:00  0.860000  0.860000  0.075000\n",
              "\n",
              "[1001 rows x 3 columns]"
            ]
          },
          "metadata": {},
          "execution_count": 39
        }
      ]
    },
    {
      "cell_type": "markdown",
      "metadata": {
        "id": "4iTa35JB5I-N"
      },
      "source": [
        "<div class=\"alert alert-success\">\n",
        "\n",
        "<b>EXERCISE</b>:\n",
        "\n",
        " <ul>\n",
        "  <li>select all data in January, February and March for all different years</li>\n",
        "</ul>\n",
        "</div>"
      ]
    },
    {
      "cell_type": "code",
      "metadata": {
        "clear_cell": true,
        "collapsed": true,
        "run_control": {
          "frozen": false,
          "read_only": false
        },
        "colab": {
          "base_uri": "https://localhost:8080/",
          "height": 389
        },
        "id": "3pE2b31M5I-N",
        "outputId": "929e73bd-200f-4b93-bb56-a7f13ed81083"
      },
      "source": [
        "data.loc[(data.index.month == 1) | (data.index.month == 2) | (data.index.month == 3)]"
      ],
      "execution_count": null,
      "outputs": [
        {
          "output_type": "execute_result",
          "data": {
            "text/html": [
              "<div>\n",
              "<style scoped>\n",
              "    .dataframe tbody tr th:only-of-type {\n",
              "        vertical-align: middle;\n",
              "    }\n",
              "\n",
              "    .dataframe tbody tr th {\n",
              "        vertical-align: top;\n",
              "    }\n",
              "\n",
              "    .dataframe thead th {\n",
              "        text-align: right;\n",
              "    }\n",
              "</style>\n",
              "<table border=\"1\" class=\"dataframe\">\n",
              "  <thead>\n",
              "    <tr style=\"text-align: right;\">\n",
              "      <th></th>\n",
              "      <th>L06_347</th>\n",
              "      <th>LS06_347</th>\n",
              "      <th>LS06_348</th>\n",
              "    </tr>\n",
              "    <tr>\n",
              "      <th>Time</th>\n",
              "      <th></th>\n",
              "      <th></th>\n",
              "      <th></th>\n",
              "    </tr>\n",
              "  </thead>\n",
              "  <tbody>\n",
              "    <tr>\n",
              "      <th>2009-01-01 00:00:00</th>\n",
              "      <td>0.137417</td>\n",
              "      <td>0.097500</td>\n",
              "      <td>0.016833</td>\n",
              "    </tr>\n",
              "    <tr>\n",
              "      <th>2009-01-01 03:00:00</th>\n",
              "      <td>0.131250</td>\n",
              "      <td>0.088833</td>\n",
              "      <td>0.016417</td>\n",
              "    </tr>\n",
              "    <tr>\n",
              "      <th>2009-01-01 06:00:00</th>\n",
              "      <td>0.113500</td>\n",
              "      <td>0.091250</td>\n",
              "      <td>0.016750</td>\n",
              "    </tr>\n",
              "    <tr>\n",
              "      <th>2009-01-01 09:00:00</th>\n",
              "      <td>0.135750</td>\n",
              "      <td>0.091500</td>\n",
              "      <td>0.016250</td>\n",
              "    </tr>\n",
              "    <tr>\n",
              "      <th>...</th>\n",
              "      <td>...</td>\n",
              "      <td>...</td>\n",
              "      <td>...</td>\n",
              "    </tr>\n",
              "    <tr>\n",
              "      <th>2013-01-01 15:00:00</th>\n",
              "      <td>1.420000</td>\n",
              "      <td>1.420000</td>\n",
              "      <td>0.096333</td>\n",
              "    </tr>\n",
              "    <tr>\n",
              "      <th>2013-01-01 18:00:00</th>\n",
              "      <td>1.178583</td>\n",
              "      <td>1.178583</td>\n",
              "      <td>0.083083</td>\n",
              "    </tr>\n",
              "    <tr>\n",
              "      <th>2013-01-01 21:00:00</th>\n",
              "      <td>0.898250</td>\n",
              "      <td>0.898250</td>\n",
              "      <td>0.077167</td>\n",
              "    </tr>\n",
              "    <tr>\n",
              "      <th>2013-01-02 00:00:00</th>\n",
              "      <td>0.860000</td>\n",
              "      <td>0.860000</td>\n",
              "      <td>0.075000</td>\n",
              "    </tr>\n",
              "  </tbody>\n",
              "</table>\n",
              "<p>2897 rows × 3 columns</p>\n",
              "</div>"
            ],
            "text/plain": [
              "                      L06_347  LS06_347  LS06_348\n",
              "Time                                             \n",
              "2009-01-01 00:00:00  0.137417  0.097500  0.016833\n",
              "2009-01-01 03:00:00  0.131250  0.088833  0.016417\n",
              "2009-01-01 06:00:00  0.113500  0.091250  0.016750\n",
              "2009-01-01 09:00:00  0.135750  0.091500  0.016250\n",
              "...                       ...       ...       ...\n",
              "2013-01-01 15:00:00  1.420000  1.420000  0.096333\n",
              "2013-01-01 18:00:00  1.178583  1.178583  0.083083\n",
              "2013-01-01 21:00:00  0.898250  0.898250  0.077167\n",
              "2013-01-02 00:00:00  0.860000  0.860000  0.075000\n",
              "\n",
              "[2897 rows x 3 columns]"
            ]
          },
          "metadata": {},
          "execution_count": 40
        }
      ]
    },
    {
      "cell_type": "code",
      "metadata": {
        "colab": {
          "base_uri": "https://localhost:8080/",
          "height": 389
        },
        "id": "k5vHMiTCf90Y",
        "outputId": "1e075b77-559b-4e86-d3e0-ca49f0937ad4"
      },
      "source": [
        "data.loc[(data.index.month == 1 | 2 | 3 )]"
      ],
      "execution_count": null,
      "outputs": [
        {
          "output_type": "execute_result",
          "data": {
            "text/html": [
              "<div>\n",
              "<style scoped>\n",
              "    .dataframe tbody tr th:only-of-type {\n",
              "        vertical-align: middle;\n",
              "    }\n",
              "\n",
              "    .dataframe tbody tr th {\n",
              "        vertical-align: top;\n",
              "    }\n",
              "\n",
              "    .dataframe thead th {\n",
              "        text-align: right;\n",
              "    }\n",
              "</style>\n",
              "<table border=\"1\" class=\"dataframe\">\n",
              "  <thead>\n",
              "    <tr style=\"text-align: right;\">\n",
              "      <th></th>\n",
              "      <th>L06_347</th>\n",
              "      <th>LS06_347</th>\n",
              "      <th>LS06_348</th>\n",
              "    </tr>\n",
              "    <tr>\n",
              "      <th>Time</th>\n",
              "      <th></th>\n",
              "      <th></th>\n",
              "      <th></th>\n",
              "    </tr>\n",
              "  </thead>\n",
              "  <tbody>\n",
              "    <tr>\n",
              "      <th>2009-03-01 00:00:00</th>\n",
              "      <td>0.202417</td>\n",
              "      <td>0.157083</td>\n",
              "      <td>0.022417</td>\n",
              "    </tr>\n",
              "    <tr>\n",
              "      <th>2009-03-01 03:00:00</th>\n",
              "      <td>0.234250</td>\n",
              "      <td>0.191750</td>\n",
              "      <td>0.023417</td>\n",
              "    </tr>\n",
              "    <tr>\n",
              "      <th>2009-03-01 06:00:00</th>\n",
              "      <td>0.185750</td>\n",
              "      <td>0.174500</td>\n",
              "      <td>0.022917</td>\n",
              "    </tr>\n",
              "    <tr>\n",
              "      <th>2009-03-01 09:00:00</th>\n",
              "      <td>0.260833</td>\n",
              "      <td>0.222667</td>\n",
              "      <td>0.024417</td>\n",
              "    </tr>\n",
              "    <tr>\n",
              "      <th>...</th>\n",
              "      <td>...</td>\n",
              "      <td>...</td>\n",
              "      <td>...</td>\n",
              "    </tr>\n",
              "    <tr>\n",
              "      <th>2012-03-31 12:00:00</th>\n",
              "      <td>0.098333</td>\n",
              "      <td>0.124417</td>\n",
              "      <td>0.011833</td>\n",
              "    </tr>\n",
              "    <tr>\n",
              "      <th>2012-03-31 15:00:00</th>\n",
              "      <td>0.091917</td>\n",
              "      <td>0.123917</td>\n",
              "      <td>0.011500</td>\n",
              "    </tr>\n",
              "    <tr>\n",
              "      <th>2012-03-31 18:00:00</th>\n",
              "      <td>0.085750</td>\n",
              "      <td>0.121417</td>\n",
              "      <td>0.011000</td>\n",
              "    </tr>\n",
              "    <tr>\n",
              "      <th>2012-03-31 21:00:00</th>\n",
              "      <td>0.068417</td>\n",
              "      <td>0.119750</td>\n",
              "      <td>0.010417</td>\n",
              "    </tr>\n",
              "  </tbody>\n",
              "</table>\n",
              "<p>992 rows × 3 columns</p>\n",
              "</div>"
            ],
            "text/plain": [
              "                      L06_347  LS06_347  LS06_348\n",
              "Time                                             \n",
              "2009-03-01 00:00:00  0.202417  0.157083  0.022417\n",
              "2009-03-01 03:00:00  0.234250  0.191750  0.023417\n",
              "2009-03-01 06:00:00  0.185750  0.174500  0.022917\n",
              "2009-03-01 09:00:00  0.260833  0.222667  0.024417\n",
              "...                       ...       ...       ...\n",
              "2012-03-31 12:00:00  0.098333  0.124417  0.011833\n",
              "2012-03-31 15:00:00  0.091917  0.123917  0.011500\n",
              "2012-03-31 18:00:00  0.085750  0.121417  0.011000\n",
              "2012-03-31 21:00:00  0.068417  0.119750  0.010417\n",
              "\n",
              "[992 rows x 3 columns]"
            ]
          },
          "metadata": {},
          "execution_count": 42
        }
      ]
    },
    {
      "cell_type": "markdown",
      "metadata": {
        "id": "j6Ddj34v5I-N"
      },
      "source": [
        "<div class=\"alert alert-success\">\n",
        "\n",
        "<b>EXERCISE</b>:\n",
        "\n",
        " <ul>\n",
        "  <li>select all 'daytime' data (between 8h and 20h) for all days</li>\n",
        "</ul>\n",
        "</div>"
      ]
    },
    {
      "cell_type": "code",
      "metadata": {
        "clear_cell": true,
        "collapsed": true,
        "run_control": {
          "frozen": false,
          "read_only": false
        },
        "colab": {
          "base_uri": "https://localhost:8080/",
          "height": 294
        },
        "id": "ZL6kO0qm5I-N",
        "outputId": "03e99603-2890-4182-89a5-dbd672269a9e"
      },
      "source": [
        "data.loc[(data.index.hour > 8) & (data.index.hour<20)]['L06_347'].plot()"
      ],
      "execution_count": null,
      "outputs": [
        {
          "output_type": "execute_result",
          "data": {
            "text/plain": [
              "<matplotlib.axes._subplots.AxesSubplot at 0x7f30cacaf690>"
            ]
          },
          "metadata": {},
          "execution_count": 43
        },
        {
          "output_type": "display_data",
          "data": {
            "image/png": "[encoded data removed]",
            "text/plain": [
              "<Figure size 432x288 with 1 Axes>"
            ]
          },
          "metadata": {
            "needs_background": "light"
          }
        }
      ]
    },
    {
      "cell_type": "code",
      "metadata": {
        "clear_cell": true,
        "collapsed": true,
        "run_control": {
          "frozen": false,
          "read_only": false
        },
        "id": "rYWRTQP65I-O"
      },
      "source": [
        ""
      ],
      "execution_count": null,
      "outputs": []
    },
    {
      "cell_type": "markdown",
      "metadata": {
        "id": "mQhu4WWT5I-O"
      },
      "source": [
        "## The power of pandas: `resample`"
      ]
    },
    {
      "cell_type": "markdown",
      "metadata": {
        "id": "UNSzM2TW5I-O"
      },
      "source": [
        "A very powerfull method is **`resample`: converting the frequency of the time series** (e.g. from hourly to daily data).\n",
        "\n",
        "The time series has a frequency of 1 hour. I want to change this to daily:"
      ]
    },
    {
      "cell_type": "code",
      "metadata": {
        "collapsed": true,
        "run_control": {
          "frozen": false,
          "read_only": false
        },
        "colab": {
          "base_uri": "https://localhost:8080/",
          "height": 236
        },
        "id": "EmoNmiNa5I-O",
        "outputId": "d34e158a-5a7a-4410-c925-5a21301b303d"
      },
      "source": [
        "data.resample('MS').mean().head()"
      ],
      "execution_count": null,
      "outputs": [
        {
          "output_type": "execute_result",
          "data": {
            "text/html": [
              "<div>\n",
              "<style scoped>\n",
              "    .dataframe tbody tr th:only-of-type {\n",
              "        vertical-align: middle;\n",
              "    }\n",
              "\n",
              "    .dataframe tbody tr th {\n",
              "        vertical-align: top;\n",
              "    }\n",
              "\n",
              "    .dataframe thead th {\n",
              "        text-align: right;\n",
              "    }\n",
              "</style>\n",
              "<table border=\"1\" class=\"dataframe\">\n",
              "  <thead>\n",
              "    <tr style=\"text-align: right;\">\n",
              "      <th></th>\n",
              "      <th>L06_347</th>\n",
              "      <th>LS06_347</th>\n",
              "      <th>LS06_348</th>\n",
              "    </tr>\n",
              "    <tr>\n",
              "      <th>Time</th>\n",
              "      <th></th>\n",
              "      <th></th>\n",
              "      <th></th>\n",
              "    </tr>\n",
              "  </thead>\n",
              "  <tbody>\n",
              "    <tr>\n",
              "      <th>2009-01-01</th>\n",
              "      <td>0.517864</td>\n",
              "      <td>0.536660</td>\n",
              "      <td>0.045597</td>\n",
              "    </tr>\n",
              "    <tr>\n",
              "      <th>2009-02-01</th>\n",
              "      <td>0.516847</td>\n",
              "      <td>0.529987</td>\n",
              "      <td>0.047238</td>\n",
              "    </tr>\n",
              "    <tr>\n",
              "      <th>2009-03-01</th>\n",
              "      <td>0.373157</td>\n",
              "      <td>0.383172</td>\n",
              "      <td>0.037508</td>\n",
              "    </tr>\n",
              "    <tr>\n",
              "      <th>2009-04-01</th>\n",
              "      <td>0.163182</td>\n",
              "      <td>0.129354</td>\n",
              "      <td>0.021356</td>\n",
              "    </tr>\n",
              "    <tr>\n",
              "      <th>2009-05-01</th>\n",
              "      <td>0.178588</td>\n",
              "      <td>0.160616</td>\n",
              "      <td>0.020744</td>\n",
              "    </tr>\n",
              "  </tbody>\n",
              "</table>\n",
              "</div>"
            ],
            "text/plain": [
              "             L06_347  LS06_347  LS06_348\n",
              "Time                                    \n",
              "2009-01-01  0.517864  0.536660  0.045597\n",
              "2009-02-01  0.516847  0.529987  0.047238\n",
              "2009-03-01  0.373157  0.383172  0.037508\n",
              "2009-04-01  0.163182  0.129354  0.021356\n",
              "2009-05-01  0.178588  0.160616  0.020744"
            ]
          },
          "metadata": {},
          "execution_count": 44
        }
      ]
    },
    {
      "cell_type": "markdown",
      "metadata": {
        "id": "fiecHCxW5I-O"
      },
      "source": [
        "<div class=\"alert alert-danger\">\n",
        "\n",
        "<b>NOTE</b>:\n",
        "\n",
        " <ul>\n",
        "  <li>with older versions of pandas, <code>data.resample('D').mean()</code> was expressed as <code>data.resample('D', how='mean')</code>.</li>\n",
        "</ul>\n",
        "</div>"
      ]
    },
    {
      "cell_type": "markdown",
      "metadata": {
        "id": "W3SeUPaE5I-O"
      },
      "source": [
        "Other mathematical methods can also be specified:"
      ]
    },
    {
      "cell_type": "code",
      "metadata": {
        "collapsed": true,
        "run_control": {
          "frozen": false,
          "read_only": false
        },
        "colab": {
          "base_uri": "https://localhost:8080/",
          "height": 236
        },
        "id": "_oHOTDoc5I-O",
        "outputId": "7a214ef1-c8a8-48bb-c77c-bd2f8485dd77"
      },
      "source": [
        "data.resample('D').max().head()"
      ],
      "execution_count": null,
      "outputs": [
        {
          "output_type": "execute_result",
          "data": {
            "text/html": [
              "<div>\n",
              "<style scoped>\n",
              "    .dataframe tbody tr th:only-of-type {\n",
              "        vertical-align: middle;\n",
              "    }\n",
              "\n",
              "    .dataframe tbody tr th {\n",
              "        vertical-align: top;\n",
              "    }\n",
              "\n",
              "    .dataframe thead th {\n",
              "        text-align: right;\n",
              "    }\n",
              "</style>\n",
              "<table border=\"1\" class=\"dataframe\">\n",
              "  <thead>\n",
              "    <tr style=\"text-align: right;\">\n",
              "      <th></th>\n",
              "      <th>L06_347</th>\n",
              "      <th>LS06_347</th>\n",
              "      <th>LS06_348</th>\n",
              "    </tr>\n",
              "    <tr>\n",
              "      <th>Time</th>\n",
              "      <th></th>\n",
              "      <th></th>\n",
              "      <th></th>\n",
              "    </tr>\n",
              "  </thead>\n",
              "  <tbody>\n",
              "    <tr>\n",
              "      <th>2009-01-01</th>\n",
              "      <td>0.140917</td>\n",
              "      <td>0.097500</td>\n",
              "      <td>0.017583</td>\n",
              "    </tr>\n",
              "    <tr>\n",
              "      <th>2009-01-02</th>\n",
              "      <td>0.147833</td>\n",
              "      <td>0.101917</td>\n",
              "      <td>0.016833</td>\n",
              "    </tr>\n",
              "    <tr>\n",
              "      <th>2009-01-03</th>\n",
              "      <td>0.135833</td>\n",
              "      <td>0.092500</td>\n",
              "      <td>0.016833</td>\n",
              "    </tr>\n",
              "    <tr>\n",
              "      <th>2009-01-04</th>\n",
              "      <td>0.160417</td>\n",
              "      <td>0.113750</td>\n",
              "      <td>0.018417</td>\n",
              "    </tr>\n",
              "    <tr>\n",
              "      <th>2009-01-05</th>\n",
              "      <td>0.161500</td>\n",
              "      <td>0.115167</td>\n",
              "      <td>0.021583</td>\n",
              "    </tr>\n",
              "  </tbody>\n",
              "</table>\n",
              "</div>"
            ],
            "text/plain": [
              "             L06_347  LS06_347  LS06_348\n",
              "Time                                    \n",
              "2009-01-01  0.140917  0.097500  0.017583\n",
              "2009-01-02  0.147833  0.101917  0.016833\n",
              "2009-01-03  0.135833  0.092500  0.016833\n",
              "2009-01-04  0.160417  0.113750  0.018417\n",
              "2009-01-05  0.161500  0.115167  0.021583"
            ]
          },
          "metadata": {},
          "execution_count": 45
        }
      ]
    },
    {
      "cell_type": "code",
      "metadata": {
        "collapsed": true,
        "run_control": {
          "frozen": false,
          "read_only": false
        },
        "colab": {
          "base_uri": "https://localhost:8080/",
          "height": 236
        },
        "id": "yi8Mamwf5I-O",
        "outputId": "4c9d077d-de23-44b3-9352-b31f200011d7"
      },
      "source": [
        "data.resample('A').mean()"
      ],
      "execution_count": null,
      "outputs": [
        {
          "output_type": "execute_result",
          "data": {
            "text/html": [
              "<div>\n",
              "<style scoped>\n",
              "    .dataframe tbody tr th:only-of-type {\n",
              "        vertical-align: middle;\n",
              "    }\n",
              "\n",
              "    .dataframe tbody tr th {\n",
              "        vertical-align: top;\n",
              "    }\n",
              "\n",
              "    .dataframe thead th {\n",
              "        text-align: right;\n",
              "    }\n",
              "</style>\n",
              "<table border=\"1\" class=\"dataframe\">\n",
              "  <thead>\n",
              "    <tr style=\"text-align: right;\">\n",
              "      <th></th>\n",
              "      <th>L06_347</th>\n",
              "      <th>LS06_347</th>\n",
              "      <th>LS06_348</th>\n",
              "    </tr>\n",
              "    <tr>\n",
              "      <th>Time</th>\n",
              "      <th></th>\n",
              "      <th></th>\n",
              "      <th></th>\n",
              "    </tr>\n",
              "  </thead>\n",
              "  <tbody>\n",
              "    <tr>\n",
              "      <th>2009-12-31</th>\n",
              "      <td>0.219427</td>\n",
              "      <td>0.219074</td>\n",
              "      <td>0.024532</td>\n",
              "    </tr>\n",
              "    <tr>\n",
              "      <th>2010-12-31</th>\n",
              "      <td>0.340571</td>\n",
              "      <td>0.360104</td>\n",
              "      <td>0.031055</td>\n",
              "    </tr>\n",
              "    <tr>\n",
              "      <th>2011-12-31</th>\n",
              "      <td>0.241405</td>\n",
              "      <td>0.242392</td>\n",
              "      <td>0.018012</td>\n",
              "    </tr>\n",
              "    <tr>\n",
              "      <th>2012-12-31</th>\n",
              "      <td>0.228513</td>\n",
              "      <td>0.237368</td>\n",
              "      <td>0.025240</td>\n",
              "    </tr>\n",
              "    <tr>\n",
              "      <th>2013-12-31</th>\n",
              "      <td>1.636037</td>\n",
              "      <td>1.636037</td>\n",
              "      <td>0.134731</td>\n",
              "    </tr>\n",
              "  </tbody>\n",
              "</table>\n",
              "</div>"
            ],
            "text/plain": [
              "             L06_347  LS06_347  LS06_348\n",
              "Time                                    \n",
              "2009-12-31  0.219427  0.219074  0.024532\n",
              "2010-12-31  0.340571  0.360104  0.031055\n",
              "2011-12-31  0.241405  0.242392  0.018012\n",
              "2012-12-31  0.228513  0.237368  0.025240\n",
              "2013-12-31  1.636037  1.636037  0.134731"
            ]
          },
          "metadata": {},
          "execution_count": 46
        }
      ]
    },
    {
      "cell_type": "code",
      "metadata": {
        "clear_cell": true,
        "collapsed": true,
        "run_control": {
          "frozen": false,
          "read_only": false
        },
        "id": "x67w-_Bn5I-P"
      },
      "source": [
        ""
      ],
      "execution_count": null,
      "outputs": []
    },
    {
      "cell_type": "code",
      "metadata": {
        "clear_cell": true,
        "collapsed": true,
        "run_control": {
          "frozen": false,
          "read_only": false
        },
        "id": "b0YUZgPV5I-P"
      },
      "source": [
        ""
      ],
      "execution_count": null,
      "outputs": []
    },
    {
      "cell_type": "code",
      "metadata": {
        "clear_cell": true,
        "collapsed": true,
        "run_control": {
          "frozen": false,
          "read_only": false
        },
        "id": "oxvxl8XU5I-P"
      },
      "source": [
        ""
      ],
      "execution_count": null,
      "outputs": []
    },
    {
      "cell_type": "markdown",
      "metadata": {
        "id": "M-8Jsxbc5I-P"
      },
      "source": [
        "<div class=\"alert alert-success\">\n",
        "\n",
        "<b>EXERCISE</b>:\n",
        "\n",
        " <ul>\n",
        "  <li>Calculate the monthly mininum and maximum daily average value of the 'LS06_348' column</li>\n",
        "</ul>\n",
        "</div>"
      ]
    },
    {
      "cell_type": "code",
      "metadata": {
        "clear_cell": true,
        "collapsed": true,
        "run_control": {
          "frozen": false,
          "read_only": false
        },
        "colab": {
          "base_uri": "https://localhost:8080/",
          "height": 389
        },
        "id": "nKlhFTVn5I-P",
        "outputId": "2b2e6a57-9443-49ae-9ae2-4913332c5af3"
      },
      "source": [
        "data.resample('MS').LS06_348.agg(['min','max'])"
      ],
      "execution_count": null,
      "outputs": [
        {
          "output_type": "execute_result",
          "data": {
            "text/html": [
              "<div>\n",
              "<style scoped>\n",
              "    .dataframe tbody tr th:only-of-type {\n",
              "        vertical-align: middle;\n",
              "    }\n",
              "\n",
              "    .dataframe tbody tr th {\n",
              "        vertical-align: top;\n",
              "    }\n",
              "\n",
              "    .dataframe thead th {\n",
              "        text-align: right;\n",
              "    }\n",
              "</style>\n",
              "<table border=\"1\" class=\"dataframe\">\n",
              "  <thead>\n",
              "    <tr style=\"text-align: right;\">\n",
              "      <th></th>\n",
              "      <th>min</th>\n",
              "      <th>max</th>\n",
              "    </tr>\n",
              "    <tr>\n",
              "      <th>Time</th>\n",
              "      <th></th>\n",
              "      <th></th>\n",
              "    </tr>\n",
              "  </thead>\n",
              "  <tbody>\n",
              "    <tr>\n",
              "      <th>2009-01-01</th>\n",
              "      <td>0.011000</td>\n",
              "      <td>0.637500</td>\n",
              "    </tr>\n",
              "    <tr>\n",
              "      <th>2009-02-01</th>\n",
              "      <td>0.016167</td>\n",
              "      <td>0.432167</td>\n",
              "    </tr>\n",
              "    <tr>\n",
              "      <th>2009-03-01</th>\n",
              "      <td>0.011000</td>\n",
              "      <td>0.189667</td>\n",
              "    </tr>\n",
              "    <tr>\n",
              "      <th>2009-04-01</th>\n",
              "      <td>0.010917</td>\n",
              "      <td>0.079917</td>\n",
              "    </tr>\n",
              "    <tr>\n",
              "      <th>...</th>\n",
              "      <td>...</td>\n",
              "      <td>...</td>\n",
              "    </tr>\n",
              "    <tr>\n",
              "      <th>2012-10-01</th>\n",
              "      <td>0.004000</td>\n",
              "      <td>0.112750</td>\n",
              "    </tr>\n",
              "    <tr>\n",
              "      <th>2012-11-01</th>\n",
              "      <td>0.008750</td>\n",
              "      <td>0.063667</td>\n",
              "    </tr>\n",
              "    <tr>\n",
              "      <th>2012-12-01</th>\n",
              "      <td>0.009583</td>\n",
              "      <td>0.483583</td>\n",
              "    </tr>\n",
              "    <tr>\n",
              "      <th>2013-01-01</th>\n",
              "      <td>0.075000</td>\n",
              "      <td>0.207333</td>\n",
              "    </tr>\n",
              "  </tbody>\n",
              "</table>\n",
              "<p>49 rows × 2 columns</p>\n",
              "</div>"
            ],
            "text/plain": [
              "                 min       max\n",
              "Time                          \n",
              "2009-01-01  0.011000  0.637500\n",
              "2009-02-01  0.016167  0.432167\n",
              "2009-03-01  0.011000  0.189667\n",
              "2009-04-01  0.010917  0.079917\n",
              "...              ...       ...\n",
              "2012-10-01  0.004000  0.112750\n",
              "2012-11-01  0.008750  0.063667\n",
              "2012-12-01  0.009583  0.483583\n",
              "2013-01-01  0.075000  0.207333\n",
              "\n",
              "[49 rows x 2 columns]"
            ]
          },
          "metadata": {},
          "execution_count": 47
        }
      ]
    },
    {
      "cell_type": "code",
      "metadata": {
        "collapsed": true,
        "id": "HTk1xmdW5I-P"
      },
      "source": [
        ""
      ],
      "execution_count": null,
      "outputs": []
    },
    {
      "cell_type": "markdown",
      "metadata": {
        "id": "cfsCaZFs5I-Q"
      },
      "source": [
        "<div class=\"alert alert-success\">\n",
        "<b>EXERCISE</b>:\n",
        "\n",
        " <ul>\n",
        "  <li>Calculate the typical yearly pattern with monthly resolution for the column `LS06_348`(plot of the typical monthly average over the years)</li>\n",
        "</ul>\n",
        "\n",
        "</div>"
      ]
    },
    {
      "cell_type": "code",
      "metadata": {
        "collapsed": true,
        "colab": {
          "base_uri": "https://localhost:8080/",
          "height": 389
        },
        "id": "5CJiGofm5I-Q",
        "outputId": "0138b3c9-339f-479a-c3fe-ef6748de5c12"
      },
      "source": [
        "data1 = data.resample('MS').mean()\n",
        "data1['year'] = data1.index.map(lambda x: x.year)\n",
        "data1['month'] = data1.index.map(lambda x: x.month)\n",
        "data1.pivot_table(index = 'month', columns = 'year', values = 'LS06_348')"
      ],
      "execution_count": null,
      "outputs": [
        {
          "output_type": "execute_result",
          "data": {
            "text/html": [
              "<div>\n",
              "<style scoped>\n",
              "    .dataframe tbody tr th:only-of-type {\n",
              "        vertical-align: middle;\n",
              "    }\n",
              "\n",
              "    .dataframe tbody tr th {\n",
              "        vertical-align: top;\n",
              "    }\n",
              "\n",
              "    .dataframe thead th {\n",
              "        text-align: right;\n",
              "    }\n",
              "</style>\n",
              "<table border=\"1\" class=\"dataframe\">\n",
              "  <thead>\n",
              "    <tr style=\"text-align: right;\">\n",
              "      <th>year</th>\n",
              "      <th>2009</th>\n",
              "      <th>2010</th>\n",
              "      <th>2011</th>\n",
              "      <th>2012</th>\n",
              "      <th>2013</th>\n",
              "    </tr>\n",
              "    <tr>\n",
              "      <th>month</th>\n",
              "      <th></th>\n",
              "      <th></th>\n",
              "      <th></th>\n",
              "      <th></th>\n",
              "      <th></th>\n",
              "    </tr>\n",
              "  </thead>\n",
              "  <tbody>\n",
              "    <tr>\n",
              "      <th>1</th>\n",
              "      <td>0.045597</td>\n",
              "      <td>0.034313</td>\n",
              "      <td>0.043064</td>\n",
              "      <td>0.038977</td>\n",
              "      <td>0.134731</td>\n",
              "    </tr>\n",
              "    <tr>\n",
              "      <th>2</th>\n",
              "      <td>0.047238</td>\n",
              "      <td>0.052827</td>\n",
              "      <td>0.031205</td>\n",
              "      <td>0.017845</td>\n",
              "      <td>NaN</td>\n",
              "    </tr>\n",
              "    <tr>\n",
              "      <th>3</th>\n",
              "      <td>0.037508</td>\n",
              "      <td>0.070464</td>\n",
              "      <td>0.017783</td>\n",
              "      <td>0.030467</td>\n",
              "      <td>NaN</td>\n",
              "    </tr>\n",
              "    <tr>\n",
              "      <th>4</th>\n",
              "      <td>0.021356</td>\n",
              "      <td>0.012225</td>\n",
              "      <td>0.011342</td>\n",
              "      <td>0.018080</td>\n",
              "      <td>NaN</td>\n",
              "    </tr>\n",
              "    <tr>\n",
              "      <th>...</th>\n",
              "      <td>...</td>\n",
              "      <td>...</td>\n",
              "      <td>...</td>\n",
              "      <td>...</td>\n",
              "      <td>...</td>\n",
              "    </tr>\n",
              "    <tr>\n",
              "      <th>9</th>\n",
              "      <td>0.008322</td>\n",
              "      <td>0.030931</td>\n",
              "      <td>0.009433</td>\n",
              "      <td>0.006407</td>\n",
              "      <td>NaN</td>\n",
              "    </tr>\n",
              "    <tr>\n",
              "      <th>10</th>\n",
              "      <td>0.010257</td>\n",
              "      <td>0.035210</td>\n",
              "      <td>0.009215</td>\n",
              "      <td>0.013176</td>\n",
              "      <td>NaN</td>\n",
              "    </tr>\n",
              "    <tr>\n",
              "      <th>11</th>\n",
              "      <td>0.022979</td>\n",
              "      <td>0.089383</td>\n",
              "      <td>0.009392</td>\n",
              "      <td>0.013853</td>\n",
              "      <td>NaN</td>\n",
              "    </tr>\n",
              "    <tr>\n",
              "      <th>12</th>\n",
              "      <td>0.046088</td>\n",
              "      <td>0.060212</td>\n",
              "      <td>0.058317</td>\n",
              "      <td>0.087823</td>\n",
              "      <td>NaN</td>\n",
              "    </tr>\n",
              "  </tbody>\n",
              "</table>\n",
              "<p>12 rows × 5 columns</p>\n",
              "</div>"
            ],
            "text/plain": [
              "year       2009      2010      2011      2012      2013\n",
              "month                                                  \n",
              "1      0.045597  0.034313  0.043064  0.038977  0.134731\n",
              "2      0.047238  0.052827  0.031205  0.017845       NaN\n",
              "3      0.037508  0.070464  0.017783  0.030467       NaN\n",
              "4      0.021356  0.012225  0.011342  0.018080       NaN\n",
              "...         ...       ...       ...       ...       ...\n",
              "9      0.008322  0.030931  0.009433  0.006407       NaN\n",
              "10     0.010257  0.035210  0.009215  0.013176       NaN\n",
              "11     0.022979  0.089383  0.009392  0.013853       NaN\n",
              "12     0.046088  0.060212  0.058317  0.087823       NaN\n",
              "\n",
              "[12 rows x 5 columns]"
            ]
          },
          "metadata": {},
          "execution_count": 48
        }
      ]
    },
    {
      "cell_type": "code",
      "metadata": {
        "collapsed": true,
        "id": "BH_ZevEL5I-Q"
      },
      "source": [
        ""
      ],
      "execution_count": null,
      "outputs": []
    }
  ]
}